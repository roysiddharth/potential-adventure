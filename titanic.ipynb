{
 "cells": [
  {
   "cell_type": "code",
   "execution_count": 1,
   "id": "b47032fe",
   "metadata": {
    "_cell_guid": "b1076dfc-b9ad-4769-8c92-a6c4dae69d19",
    "_uuid": "8f2839f25d086af736a60e9eeb907d3b93b6e0e5",
    "execution": {
     "iopub.execute_input": "2022-02-26T06:02:06.779752Z",
     "iopub.status.busy": "2022-02-26T06:02:06.778580Z",
     "iopub.status.idle": "2022-02-26T06:02:06.790879Z",
     "shell.execute_reply": "2022-02-26T06:02:06.791400Z",
     "shell.execute_reply.started": "2022-02-26T06:01:24.385072Z"
    },
    "papermill": {
     "duration": 0.093212,
     "end_time": "2022-02-26T06:02:06.791695",
     "exception": false,
     "start_time": "2022-02-26T06:02:06.698483",
     "status": "completed"
    },
    "tags": []
   },
   "outputs": [
    {
     "name": "stdout",
     "output_type": "stream",
     "text": [
      "/kaggle/input/titanic/train.csv\n",
      "/kaggle/input/titanic/test.csv\n",
      "/kaggle/input/titanic/gender_submission.csv\n"
     ]
    }
   ],
   "source": [
    "# This Python 3 environment comes with many helpful analytics libraries installed\n",
    "# It is defined by the kaggle/python Docker image: https://github.com/kaggle/docker-python\n",
    "# For example, here's several helpful packages to load\n",
    "\n",
    "import numpy as np # linear algebra\n",
    "import pandas as pd # data processing, CSV file I/O (e.g. pd.read_csv)\n",
    "\n",
    "# Input data files are available in the read-only \"../input/\" directory\n",
    "# For example, running this (by clicking run or pressing Shift+Enter) will list all files under the input directory\n",
    "\n",
    "import os\n",
    "for dirname, _, filenames in os.walk('/kaggle/input'):\n",
    "    for filename in filenames:\n",
    "        print(os.path.join(dirname, filename))\n",
    "\n",
    "# You can write up to 20GB to the current directory (/kaggle/working/) that gets preserved as output when you create a version using \"Save & Run All\" \n",
    "# You can also write temporary files to /kaggle/temp/, but they won't be saved outside of the current session"
   ]
  },
  {
   "cell_type": "code",
   "execution_count": 2,
   "id": "a7b6a30a",
   "metadata": {
    "execution": {
     "iopub.execute_input": "2022-02-26T06:02:06.943668Z",
     "iopub.status.busy": "2022-02-26T06:02:06.942855Z",
     "iopub.status.idle": "2022-02-26T06:02:08.025653Z",
     "shell.execute_reply": "2022-02-26T06:02:08.025064Z",
     "shell.execute_reply.started": "2022-02-26T06:01:24.397786Z"
    },
    "papermill": {
     "duration": 1.162135,
     "end_time": "2022-02-26T06:02:08.025804",
     "exception": false,
     "start_time": "2022-02-26T06:02:06.863669",
     "status": "completed"
    },
    "tags": []
   },
   "outputs": [],
   "source": [
    "import pandas as pd\n",
    "import numpy as np\n",
    "import matplotlib.pyplot as plt\n",
    "import seaborn as sns"
   ]
  },
  {
   "cell_type": "markdown",
   "id": "a493b8f9",
   "metadata": {
    "papermill": {
     "duration": 0.070809,
     "end_time": "2022-02-26T06:02:08.168760",
     "exception": false,
     "start_time": "2022-02-26T06:02:08.097951",
     "status": "completed"
    },
    "tags": []
   },
   "source": [
    "### Data Dictionary\n",
    "survival - Survival - 0 = No, 1 = Yes <br>\n",
    "pclass - Ticket class - 1 = 1st, 2 = 2nd, 3 = 3rd <br>\n",
    "sex - Sex <br>\n",
    "Age - Age in years\t <br>\n",
    "sibsp - # of siblings / spouses aboard the Titanic\t <br>\n",
    "parch - # of parents / children aboard the Titanic\t <br>\n",
    "ticket - Ticket number\t <br>\n",
    "fare - Passenger fare\t <br>\n",
    "cabin - Cabin number\t <br>\n",
    "embarked - Port of Embarkation - C = Cherbourg, Q = Queenstown, S = Southampton"
   ]
  },
  {
   "cell_type": "markdown",
   "id": "12306a7c",
   "metadata": {
    "papermill": {
     "duration": 0.07112,
     "end_time": "2022-02-26T06:02:08.311480",
     "exception": false,
     "start_time": "2022-02-26T06:02:08.240360",
     "status": "completed"
    },
    "tags": []
   },
   "source": [
    "## Importing the dataset"
   ]
  },
  {
   "cell_type": "code",
   "execution_count": 3,
   "id": "6bed99c7",
   "metadata": {
    "execution": {
     "iopub.execute_input": "2022-02-26T06:02:08.458068Z",
     "iopub.status.busy": "2022-02-26T06:02:08.457410Z",
     "iopub.status.idle": "2022-02-26T06:02:08.484208Z",
     "shell.execute_reply": "2022-02-26T06:02:08.484796Z",
     "shell.execute_reply.started": "2022-02-26T06:01:24.409847Z"
    },
    "papermill": {
     "duration": 0.1022,
     "end_time": "2022-02-26T06:02:08.484975",
     "exception": false,
     "start_time": "2022-02-26T06:02:08.382775",
     "status": "completed"
    },
    "tags": []
   },
   "outputs": [],
   "source": [
    "train = pd.read_csv('../input/titanic/train.csv')\n",
    "test = pd.read_csv('../input/titanic/test.csv')\n",
    "\n",
    "data = [train, test]"
   ]
  },
  {
   "cell_type": "markdown",
   "id": "5635c5be",
   "metadata": {
    "papermill": {
     "duration": 0.073648,
     "end_time": "2022-02-26T06:02:08.631039",
     "exception": false,
     "start_time": "2022-02-26T06:02:08.557391",
     "status": "completed"
    },
    "tags": []
   },
   "source": [
    "## Exploring the Data"
   ]
  },
  {
   "cell_type": "code",
   "execution_count": 4,
   "id": "170b3819",
   "metadata": {
    "execution": {
     "iopub.execute_input": "2022-02-26T06:02:08.776894Z",
     "iopub.status.busy": "2022-02-26T06:02:08.776202Z",
     "iopub.status.idle": "2022-02-26T06:02:08.800322Z",
     "shell.execute_reply": "2022-02-26T06:02:08.799810Z",
     "shell.execute_reply.started": "2022-02-26T06:01:24.435551Z"
    },
    "papermill": {
     "duration": 0.097965,
     "end_time": "2022-02-26T06:02:08.800466",
     "exception": false,
     "start_time": "2022-02-26T06:02:08.702501",
     "status": "completed"
    },
    "tags": []
   },
   "outputs": [
    {
     "data": {
      "text/html": [
       "<div>\n",
       "<style scoped>\n",
       "    .dataframe tbody tr th:only-of-type {\n",
       "        vertical-align: middle;\n",
       "    }\n",
       "\n",
       "    .dataframe tbody tr th {\n",
       "        vertical-align: top;\n",
       "    }\n",
       "\n",
       "    .dataframe thead th {\n",
       "        text-align: right;\n",
       "    }\n",
       "</style>\n",
       "<table border=\"1\" class=\"dataframe\">\n",
       "  <thead>\n",
       "    <tr style=\"text-align: right;\">\n",
       "      <th></th>\n",
       "      <th>PassengerId</th>\n",
       "      <th>Survived</th>\n",
       "      <th>Pclass</th>\n",
       "      <th>Name</th>\n",
       "      <th>Sex</th>\n",
       "      <th>Age</th>\n",
       "      <th>SibSp</th>\n",
       "      <th>Parch</th>\n",
       "      <th>Ticket</th>\n",
       "      <th>Fare</th>\n",
       "      <th>Cabin</th>\n",
       "      <th>Embarked</th>\n",
       "    </tr>\n",
       "  </thead>\n",
       "  <tbody>\n",
       "    <tr>\n",
       "      <th>0</th>\n",
       "      <td>1</td>\n",
       "      <td>0</td>\n",
       "      <td>3</td>\n",
       "      <td>Braund, Mr. Owen Harris</td>\n",
       "      <td>male</td>\n",
       "      <td>22.0</td>\n",
       "      <td>1</td>\n",
       "      <td>0</td>\n",
       "      <td>A/5 21171</td>\n",
       "      <td>7.2500</td>\n",
       "      <td>NaN</td>\n",
       "      <td>S</td>\n",
       "    </tr>\n",
       "    <tr>\n",
       "      <th>1</th>\n",
       "      <td>2</td>\n",
       "      <td>1</td>\n",
       "      <td>1</td>\n",
       "      <td>Cumings, Mrs. John Bradley (Florence Briggs Th...</td>\n",
       "      <td>female</td>\n",
       "      <td>38.0</td>\n",
       "      <td>1</td>\n",
       "      <td>0</td>\n",
       "      <td>PC 17599</td>\n",
       "      <td>71.2833</td>\n",
       "      <td>C85</td>\n",
       "      <td>C</td>\n",
       "    </tr>\n",
       "    <tr>\n",
       "      <th>2</th>\n",
       "      <td>3</td>\n",
       "      <td>1</td>\n",
       "      <td>3</td>\n",
       "      <td>Heikkinen, Miss. Laina</td>\n",
       "      <td>female</td>\n",
       "      <td>26.0</td>\n",
       "      <td>0</td>\n",
       "      <td>0</td>\n",
       "      <td>STON/O2. 3101282</td>\n",
       "      <td>7.9250</td>\n",
       "      <td>NaN</td>\n",
       "      <td>S</td>\n",
       "    </tr>\n",
       "    <tr>\n",
       "      <th>3</th>\n",
       "      <td>4</td>\n",
       "      <td>1</td>\n",
       "      <td>1</td>\n",
       "      <td>Futrelle, Mrs. Jacques Heath (Lily May Peel)</td>\n",
       "      <td>female</td>\n",
       "      <td>35.0</td>\n",
       "      <td>1</td>\n",
       "      <td>0</td>\n",
       "      <td>113803</td>\n",
       "      <td>53.1000</td>\n",
       "      <td>C123</td>\n",
       "      <td>S</td>\n",
       "    </tr>\n",
       "    <tr>\n",
       "      <th>4</th>\n",
       "      <td>5</td>\n",
       "      <td>0</td>\n",
       "      <td>3</td>\n",
       "      <td>Allen, Mr. William Henry</td>\n",
       "      <td>male</td>\n",
       "      <td>35.0</td>\n",
       "      <td>0</td>\n",
       "      <td>0</td>\n",
       "      <td>373450</td>\n",
       "      <td>8.0500</td>\n",
       "      <td>NaN</td>\n",
       "      <td>S</td>\n",
       "    </tr>\n",
       "  </tbody>\n",
       "</table>\n",
       "</div>"
      ],
      "text/plain": [
       "   PassengerId  Survived  Pclass  \\\n",
       "0            1         0       3   \n",
       "1            2         1       1   \n",
       "2            3         1       3   \n",
       "3            4         1       1   \n",
       "4            5         0       3   \n",
       "\n",
       "                                                Name     Sex   Age  SibSp  \\\n",
       "0                            Braund, Mr. Owen Harris    male  22.0      1   \n",
       "1  Cumings, Mrs. John Bradley (Florence Briggs Th...  female  38.0      1   \n",
       "2                             Heikkinen, Miss. Laina  female  26.0      0   \n",
       "3       Futrelle, Mrs. Jacques Heath (Lily May Peel)  female  35.0      1   \n",
       "4                           Allen, Mr. William Henry    male  35.0      0   \n",
       "\n",
       "   Parch            Ticket     Fare Cabin Embarked  \n",
       "0      0         A/5 21171   7.2500   NaN        S  \n",
       "1      0          PC 17599  71.2833   C85        C  \n",
       "2      0  STON/O2. 3101282   7.9250   NaN        S  \n",
       "3      0            113803  53.1000  C123        S  \n",
       "4      0            373450   8.0500   NaN        S  "
      ]
     },
     "execution_count": 4,
     "metadata": {},
     "output_type": "execute_result"
    }
   ],
   "source": [
    "train.head()"
   ]
  },
  {
   "cell_type": "code",
   "execution_count": 5,
   "id": "8e8d45a3",
   "metadata": {
    "execution": {
     "iopub.execute_input": "2022-02-26T06:02:08.947054Z",
     "iopub.status.busy": "2022-02-26T06:02:08.946451Z",
     "iopub.status.idle": "2022-02-26T06:02:08.951655Z",
     "shell.execute_reply": "2022-02-26T06:02:08.952162Z",
     "shell.execute_reply.started": "2022-02-26T06:01:24.455168Z"
    },
    "papermill": {
     "duration": 0.079806,
     "end_time": "2022-02-26T06:02:08.952356",
     "exception": false,
     "start_time": "2022-02-26T06:02:08.872550",
     "status": "completed"
    },
    "tags": []
   },
   "outputs": [
    {
     "data": {
      "text/plain": [
       "Index(['PassengerId', 'Survived', 'Pclass', 'Name', 'Sex', 'Age', 'SibSp',\n",
       "       'Parch', 'Ticket', 'Fare', 'Cabin', 'Embarked'],\n",
       "      dtype='object')"
      ]
     },
     "execution_count": 5,
     "metadata": {},
     "output_type": "execute_result"
    }
   ],
   "source": [
    "train.columns"
   ]
  },
  {
   "cell_type": "markdown",
   "id": "769b49ca",
   "metadata": {
    "papermill": {
     "duration": 0.072408,
     "end_time": "2022-02-26T06:02:09.098123",
     "exception": false,
     "start_time": "2022-02-26T06:02:09.025715",
     "status": "completed"
    },
    "tags": []
   },
   "source": [
    "## Exploring the Cabin Column"
   ]
  },
  {
   "cell_type": "code",
   "execution_count": 6,
   "id": "a6b22ded",
   "metadata": {
    "execution": {
     "iopub.execute_input": "2022-02-26T06:02:09.245620Z",
     "iopub.status.busy": "2022-02-26T06:02:09.244940Z",
     "iopub.status.idle": "2022-02-26T06:02:09.257397Z",
     "shell.execute_reply": "2022-02-26T06:02:09.257977Z",
     "shell.execute_reply.started": "2022-02-26T06:01:24.468084Z"
    },
    "papermill": {
     "duration": 0.088148,
     "end_time": "2022-02-26T06:02:09.258158",
     "exception": false,
     "start_time": "2022-02-26T06:02:09.170010",
     "status": "completed"
    },
    "tags": []
   },
   "outputs": [
    {
     "data": {
      "text/plain": [
       "array([nan, 'C85', 'C123', 'E46', 'G6', 'C103', 'D56', 'A6',\n",
       "       'C23 C25 C27', 'B78', 'D33', 'B30', 'C52', 'B28', 'C83', 'F33',\n",
       "       'F G73', 'E31', 'A5', 'D10 D12', 'D26', 'C110', 'B58 B60', 'E101',\n",
       "       'F E69', 'D47', 'B86', 'F2', 'C2', 'E33', 'B19', 'A7', 'C49', 'F4',\n",
       "       'A32', 'B4', 'B80', 'A31', 'D36', 'D15', 'C93', 'C78', 'D35',\n",
       "       'C87', 'B77', 'E67', 'B94', 'C125', 'C99', 'C118', 'D7', 'A19',\n",
       "       'B49', 'D', 'C22 C26', 'C106', 'C65', 'E36', 'C54',\n",
       "       'B57 B59 B63 B66', 'C7', 'E34', 'C32', 'B18', 'C124', 'C91', 'E40',\n",
       "       'T', 'C128', 'D37', 'B35', 'E50', 'C82', 'B96 B98', 'E10', 'E44',\n",
       "       'A34', 'C104', 'C111', 'C92', 'E38', 'D21', 'E12', 'E63', 'A14',\n",
       "       'B37', 'C30', 'D20', 'B79', 'E25', 'D46', 'B73', 'C95', 'B38',\n",
       "       'B39', 'B22', 'C86', 'C70', 'A16', 'C101', 'C68', 'A10', 'E68',\n",
       "       'B41', 'A20', 'D19', 'D50', 'D9', 'A23', 'B50', 'A26', 'D48',\n",
       "       'E58', 'C126', 'B71', 'B51 B53 B55', 'D49', 'B5', 'B20', 'F G63',\n",
       "       'C62 C64', 'E24', 'C90', 'C45', 'E8', 'B101', 'D45', 'C46', 'D30',\n",
       "       'E121', 'D11', 'E77', 'F38', 'B3', 'D6', 'B82 B84', 'D17', 'A36',\n",
       "       'B102', 'B69', 'E49', 'C47', 'D28', 'E17', 'A24', 'C50', 'B42',\n",
       "       'C148'], dtype=object)"
      ]
     },
     "execution_count": 6,
     "metadata": {},
     "output_type": "execute_result"
    }
   ],
   "source": [
    "train.Cabin.unique()"
   ]
  },
  {
   "cell_type": "code",
   "execution_count": 7,
   "id": "8ff06810",
   "metadata": {
    "execution": {
     "iopub.execute_input": "2022-02-26T06:02:09.407198Z",
     "iopub.status.busy": "2022-02-26T06:02:09.406549Z",
     "iopub.status.idle": "2022-02-26T06:02:09.425114Z",
     "shell.execute_reply": "2022-02-26T06:02:09.424475Z",
     "shell.execute_reply.started": "2022-02-26T06:01:24.482775Z"
    },
    "papermill": {
     "duration": 0.093591,
     "end_time": "2022-02-26T06:02:09.425265",
     "exception": false,
     "start_time": "2022-02-26T06:02:09.331674",
     "status": "completed"
    },
    "tags": []
   },
   "outputs": [],
   "source": [
    "import re\n",
    "\n",
    "deck = {\"A\": 1, \"B\": 2, \"C\": 3, \"D\": 4, \"E\": 5, \"F\": 6, \"G\": 7, \"U\": 8}\n",
    "for dataset in data:\n",
    "    dataset['Cabin'] = dataset['Cabin'].fillna('U0')\n",
    "    dataset['Deck'] = dataset['Cabin'].map(lambda x: re.compile('([A-Z]+)').search(x).group())\n",
    "    dataset['Deck'] = dataset['Deck'].map(deck)\n",
    "    dataset['Deck'] = dataset['Deck'].fillna(0)\n",
    "    dataset['Deck'] = dataset['Deck'].astype(int)"
   ]
  },
  {
   "cell_type": "code",
   "execution_count": 8,
   "id": "df889696",
   "metadata": {
    "execution": {
     "iopub.execute_input": "2022-02-26T06:02:09.581368Z",
     "iopub.status.busy": "2022-02-26T06:02:09.577571Z",
     "iopub.status.idle": "2022-02-26T06:02:09.582967Z",
     "shell.execute_reply": "2022-02-26T06:02:09.583541Z",
     "shell.execute_reply.started": "2022-02-26T06:01:24.501749Z"
    },
    "papermill": {
     "duration": 0.084538,
     "end_time": "2022-02-26T06:02:09.583724",
     "exception": false,
     "start_time": "2022-02-26T06:02:09.499186",
     "status": "completed"
    },
    "tags": []
   },
   "outputs": [],
   "source": [
    "p_id = test['PassengerId']\n",
    "train.drop(['PassengerId', 'Ticket', 'Cabin'], axis = 1, inplace = True)\n",
    "test.drop(['PassengerId', 'Ticket', 'Cabin'], axis = 1, inplace = True)"
   ]
  },
  {
   "cell_type": "code",
   "execution_count": 9,
   "id": "972df34b",
   "metadata": {
    "execution": {
     "iopub.execute_input": "2022-02-26T06:02:09.734541Z",
     "iopub.status.busy": "2022-02-26T06:02:09.733868Z",
     "iopub.status.idle": "2022-02-26T06:02:09.744493Z",
     "shell.execute_reply": "2022-02-26T06:02:09.745063Z",
     "shell.execute_reply.started": "2022-02-26T06:01:24.512265Z"
    },
    "papermill": {
     "duration": 0.089059,
     "end_time": "2022-02-26T06:02:09.745228",
     "exception": false,
     "start_time": "2022-02-26T06:02:09.656169",
     "status": "completed"
    },
    "tags": []
   },
   "outputs": [
    {
     "data": {
      "text/html": [
       "<div>\n",
       "<style scoped>\n",
       "    .dataframe tbody tr th:only-of-type {\n",
       "        vertical-align: middle;\n",
       "    }\n",
       "\n",
       "    .dataframe tbody tr th {\n",
       "        vertical-align: top;\n",
       "    }\n",
       "\n",
       "    .dataframe thead th {\n",
       "        text-align: right;\n",
       "    }\n",
       "</style>\n",
       "<table border=\"1\" class=\"dataframe\">\n",
       "  <thead>\n",
       "    <tr style=\"text-align: right;\">\n",
       "      <th></th>\n",
       "      <th>Survived</th>\n",
       "      <th>Pclass</th>\n",
       "      <th>Name</th>\n",
       "      <th>Sex</th>\n",
       "      <th>Age</th>\n",
       "      <th>SibSp</th>\n",
       "      <th>Parch</th>\n",
       "      <th>Fare</th>\n",
       "      <th>Embarked</th>\n",
       "      <th>Deck</th>\n",
       "    </tr>\n",
       "  </thead>\n",
       "  <tbody>\n",
       "    <tr>\n",
       "      <th>0</th>\n",
       "      <td>0</td>\n",
       "      <td>3</td>\n",
       "      <td>Braund, Mr. Owen Harris</td>\n",
       "      <td>male</td>\n",
       "      <td>22.0</td>\n",
       "      <td>1</td>\n",
       "      <td>0</td>\n",
       "      <td>7.2500</td>\n",
       "      <td>S</td>\n",
       "      <td>8</td>\n",
       "    </tr>\n",
       "    <tr>\n",
       "      <th>1</th>\n",
       "      <td>1</td>\n",
       "      <td>1</td>\n",
       "      <td>Cumings, Mrs. John Bradley (Florence Briggs Th...</td>\n",
       "      <td>female</td>\n",
       "      <td>38.0</td>\n",
       "      <td>1</td>\n",
       "      <td>0</td>\n",
       "      <td>71.2833</td>\n",
       "      <td>C</td>\n",
       "      <td>3</td>\n",
       "    </tr>\n",
       "    <tr>\n",
       "      <th>2</th>\n",
       "      <td>1</td>\n",
       "      <td>3</td>\n",
       "      <td>Heikkinen, Miss. Laina</td>\n",
       "      <td>female</td>\n",
       "      <td>26.0</td>\n",
       "      <td>0</td>\n",
       "      <td>0</td>\n",
       "      <td>7.9250</td>\n",
       "      <td>S</td>\n",
       "      <td>8</td>\n",
       "    </tr>\n",
       "    <tr>\n",
       "      <th>3</th>\n",
       "      <td>1</td>\n",
       "      <td>1</td>\n",
       "      <td>Futrelle, Mrs. Jacques Heath (Lily May Peel)</td>\n",
       "      <td>female</td>\n",
       "      <td>35.0</td>\n",
       "      <td>1</td>\n",
       "      <td>0</td>\n",
       "      <td>53.1000</td>\n",
       "      <td>S</td>\n",
       "      <td>3</td>\n",
       "    </tr>\n",
       "    <tr>\n",
       "      <th>4</th>\n",
       "      <td>0</td>\n",
       "      <td>3</td>\n",
       "      <td>Allen, Mr. William Henry</td>\n",
       "      <td>male</td>\n",
       "      <td>35.0</td>\n",
       "      <td>0</td>\n",
       "      <td>0</td>\n",
       "      <td>8.0500</td>\n",
       "      <td>S</td>\n",
       "      <td>8</td>\n",
       "    </tr>\n",
       "  </tbody>\n",
       "</table>\n",
       "</div>"
      ],
      "text/plain": [
       "   Survived  Pclass                                               Name  \\\n",
       "0         0       3                            Braund, Mr. Owen Harris   \n",
       "1         1       1  Cumings, Mrs. John Bradley (Florence Briggs Th...   \n",
       "2         1       3                             Heikkinen, Miss. Laina   \n",
       "3         1       1       Futrelle, Mrs. Jacques Heath (Lily May Peel)   \n",
       "4         0       3                           Allen, Mr. William Henry   \n",
       "\n",
       "      Sex   Age  SibSp  Parch     Fare Embarked  Deck  \n",
       "0    male  22.0      1      0   7.2500        S     8  \n",
       "1  female  38.0      1      0  71.2833        C     3  \n",
       "2  female  26.0      0      0   7.9250        S     8  \n",
       "3  female  35.0      1      0  53.1000        S     3  \n",
       "4    male  35.0      0      0   8.0500        S     8  "
      ]
     },
     "execution_count": 9,
     "metadata": {},
     "output_type": "execute_result"
    }
   ],
   "source": [
    "train.head()"
   ]
  },
  {
   "cell_type": "code",
   "execution_count": 10,
   "id": "f249653e",
   "metadata": {
    "execution": {
     "iopub.execute_input": "2022-02-26T06:02:09.896015Z",
     "iopub.status.busy": "2022-02-26T06:02:09.895421Z",
     "iopub.status.idle": "2022-02-26T06:02:09.928310Z",
     "shell.execute_reply": "2022-02-26T06:02:09.927764Z",
     "shell.execute_reply.started": "2022-02-26T06:01:24.539447Z"
    },
    "papermill": {
     "duration": 0.10971,
     "end_time": "2022-02-26T06:02:09.928458",
     "exception": false,
     "start_time": "2022-02-26T06:02:09.818748",
     "status": "completed"
    },
    "tags": []
   },
   "outputs": [
    {
     "data": {
      "text/html": [
       "<div>\n",
       "<style scoped>\n",
       "    .dataframe tbody tr th:only-of-type {\n",
       "        vertical-align: middle;\n",
       "    }\n",
       "\n",
       "    .dataframe tbody tr th {\n",
       "        vertical-align: top;\n",
       "    }\n",
       "\n",
       "    .dataframe thead th {\n",
       "        text-align: right;\n",
       "    }\n",
       "</style>\n",
       "<table border=\"1\" class=\"dataframe\">\n",
       "  <thead>\n",
       "    <tr style=\"text-align: right;\">\n",
       "      <th></th>\n",
       "      <th>Survived</th>\n",
       "      <th>Pclass</th>\n",
       "      <th>Age</th>\n",
       "      <th>SibSp</th>\n",
       "      <th>Parch</th>\n",
       "      <th>Fare</th>\n",
       "      <th>Deck</th>\n",
       "    </tr>\n",
       "  </thead>\n",
       "  <tbody>\n",
       "    <tr>\n",
       "      <th>count</th>\n",
       "      <td>891.000000</td>\n",
       "      <td>891.000000</td>\n",
       "      <td>714.000000</td>\n",
       "      <td>891.000000</td>\n",
       "      <td>891.000000</td>\n",
       "      <td>891.000000</td>\n",
       "      <td>891.000000</td>\n",
       "    </tr>\n",
       "    <tr>\n",
       "      <th>mean</th>\n",
       "      <td>0.383838</td>\n",
       "      <td>2.308642</td>\n",
       "      <td>29.699118</td>\n",
       "      <td>0.523008</td>\n",
       "      <td>0.381594</td>\n",
       "      <td>32.204208</td>\n",
       "      <td>6.936027</td>\n",
       "    </tr>\n",
       "    <tr>\n",
       "      <th>std</th>\n",
       "      <td>0.486592</td>\n",
       "      <td>0.836071</td>\n",
       "      <td>14.526497</td>\n",
       "      <td>1.102743</td>\n",
       "      <td>0.806057</td>\n",
       "      <td>49.693429</td>\n",
       "      <td>2.074282</td>\n",
       "    </tr>\n",
       "    <tr>\n",
       "      <th>min</th>\n",
       "      <td>0.000000</td>\n",
       "      <td>1.000000</td>\n",
       "      <td>0.420000</td>\n",
       "      <td>0.000000</td>\n",
       "      <td>0.000000</td>\n",
       "      <td>0.000000</td>\n",
       "      <td>0.000000</td>\n",
       "    </tr>\n",
       "    <tr>\n",
       "      <th>25%</th>\n",
       "      <td>0.000000</td>\n",
       "      <td>2.000000</td>\n",
       "      <td>20.125000</td>\n",
       "      <td>0.000000</td>\n",
       "      <td>0.000000</td>\n",
       "      <td>7.910400</td>\n",
       "      <td>8.000000</td>\n",
       "    </tr>\n",
       "    <tr>\n",
       "      <th>50%</th>\n",
       "      <td>0.000000</td>\n",
       "      <td>3.000000</td>\n",
       "      <td>28.000000</td>\n",
       "      <td>0.000000</td>\n",
       "      <td>0.000000</td>\n",
       "      <td>14.454200</td>\n",
       "      <td>8.000000</td>\n",
       "    </tr>\n",
       "    <tr>\n",
       "      <th>75%</th>\n",
       "      <td>1.000000</td>\n",
       "      <td>3.000000</td>\n",
       "      <td>38.000000</td>\n",
       "      <td>1.000000</td>\n",
       "      <td>0.000000</td>\n",
       "      <td>31.000000</td>\n",
       "      <td>8.000000</td>\n",
       "    </tr>\n",
       "    <tr>\n",
       "      <th>max</th>\n",
       "      <td>1.000000</td>\n",
       "      <td>3.000000</td>\n",
       "      <td>80.000000</td>\n",
       "      <td>8.000000</td>\n",
       "      <td>6.000000</td>\n",
       "      <td>512.329200</td>\n",
       "      <td>8.000000</td>\n",
       "    </tr>\n",
       "  </tbody>\n",
       "</table>\n",
       "</div>"
      ],
      "text/plain": [
       "         Survived      Pclass         Age       SibSp       Parch        Fare  \\\n",
       "count  891.000000  891.000000  714.000000  891.000000  891.000000  891.000000   \n",
       "mean     0.383838    2.308642   29.699118    0.523008    0.381594   32.204208   \n",
       "std      0.486592    0.836071   14.526497    1.102743    0.806057   49.693429   \n",
       "min      0.000000    1.000000    0.420000    0.000000    0.000000    0.000000   \n",
       "25%      0.000000    2.000000   20.125000    0.000000    0.000000    7.910400   \n",
       "50%      0.000000    3.000000   28.000000    0.000000    0.000000   14.454200   \n",
       "75%      1.000000    3.000000   38.000000    1.000000    0.000000   31.000000   \n",
       "max      1.000000    3.000000   80.000000    8.000000    6.000000  512.329200   \n",
       "\n",
       "             Deck  \n",
       "count  891.000000  \n",
       "mean     6.936027  \n",
       "std      2.074282  \n",
       "min      0.000000  \n",
       "25%      8.000000  \n",
       "50%      8.000000  \n",
       "75%      8.000000  \n",
       "max      8.000000  "
      ]
     },
     "execution_count": 10,
     "metadata": {},
     "output_type": "execute_result"
    }
   ],
   "source": [
    "train.describe()"
   ]
  },
  {
   "cell_type": "markdown",
   "id": "e0f00771",
   "metadata": {
    "papermill": {
     "duration": 0.074331,
     "end_time": "2022-02-26T06:02:10.077893",
     "exception": false,
     "start_time": "2022-02-26T06:02:10.003562",
     "status": "completed"
    },
    "tags": []
   },
   "source": [
    "- In Age column, the mean > median, we can assume that if the Age column in normally distributed, it is positively skewed. <br>\n",
    "- The Fare column is also positively skewed."
   ]
  },
  {
   "cell_type": "code",
   "execution_count": 11,
   "id": "eab9863c",
   "metadata": {
    "execution": {
     "iopub.execute_input": "2022-02-26T06:02:10.229616Z",
     "iopub.status.busy": "2022-02-26T06:02:10.228915Z",
     "iopub.status.idle": "2022-02-26T06:02:10.260316Z",
     "shell.execute_reply": "2022-02-26T06:02:10.260900Z",
     "shell.execute_reply.started": "2022-02-26T06:01:24.581214Z"
    },
    "papermill": {
     "duration": 0.109868,
     "end_time": "2022-02-26T06:02:10.261102",
     "exception": false,
     "start_time": "2022-02-26T06:02:10.151234",
     "status": "completed"
    },
    "tags": []
   },
   "outputs": [
    {
     "data": {
      "text/html": [
       "<div>\n",
       "<style scoped>\n",
       "    .dataframe tbody tr th:only-of-type {\n",
       "        vertical-align: middle;\n",
       "    }\n",
       "\n",
       "    .dataframe tbody tr th {\n",
       "        vertical-align: top;\n",
       "    }\n",
       "\n",
       "    .dataframe thead th {\n",
       "        text-align: right;\n",
       "    }\n",
       "</style>\n",
       "<table border=\"1\" class=\"dataframe\">\n",
       "  <thead>\n",
       "    <tr style=\"text-align: right;\">\n",
       "      <th>Sex</th>\n",
       "      <th>female</th>\n",
       "      <th>male</th>\n",
       "    </tr>\n",
       "    <tr>\n",
       "      <th>Title</th>\n",
       "      <th></th>\n",
       "      <th></th>\n",
       "    </tr>\n",
       "  </thead>\n",
       "  <tbody>\n",
       "    <tr>\n",
       "      <th>Capt</th>\n",
       "      <td>0</td>\n",
       "      <td>1</td>\n",
       "    </tr>\n",
       "    <tr>\n",
       "      <th>Col</th>\n",
       "      <td>0</td>\n",
       "      <td>2</td>\n",
       "    </tr>\n",
       "    <tr>\n",
       "      <th>Countess</th>\n",
       "      <td>1</td>\n",
       "      <td>0</td>\n",
       "    </tr>\n",
       "    <tr>\n",
       "      <th>Don</th>\n",
       "      <td>0</td>\n",
       "      <td>1</td>\n",
       "    </tr>\n",
       "    <tr>\n",
       "      <th>Dr</th>\n",
       "      <td>1</td>\n",
       "      <td>6</td>\n",
       "    </tr>\n",
       "    <tr>\n",
       "      <th>Jonkheer</th>\n",
       "      <td>0</td>\n",
       "      <td>1</td>\n",
       "    </tr>\n",
       "    <tr>\n",
       "      <th>Lady</th>\n",
       "      <td>1</td>\n",
       "      <td>0</td>\n",
       "    </tr>\n",
       "    <tr>\n",
       "      <th>Major</th>\n",
       "      <td>0</td>\n",
       "      <td>2</td>\n",
       "    </tr>\n",
       "    <tr>\n",
       "      <th>Master</th>\n",
       "      <td>0</td>\n",
       "      <td>40</td>\n",
       "    </tr>\n",
       "    <tr>\n",
       "      <th>Miss</th>\n",
       "      <td>182</td>\n",
       "      <td>0</td>\n",
       "    </tr>\n",
       "    <tr>\n",
       "      <th>Mlle</th>\n",
       "      <td>2</td>\n",
       "      <td>0</td>\n",
       "    </tr>\n",
       "    <tr>\n",
       "      <th>Mme</th>\n",
       "      <td>1</td>\n",
       "      <td>0</td>\n",
       "    </tr>\n",
       "    <tr>\n",
       "      <th>Mr</th>\n",
       "      <td>0</td>\n",
       "      <td>517</td>\n",
       "    </tr>\n",
       "    <tr>\n",
       "      <th>Mrs</th>\n",
       "      <td>125</td>\n",
       "      <td>0</td>\n",
       "    </tr>\n",
       "    <tr>\n",
       "      <th>Ms</th>\n",
       "      <td>1</td>\n",
       "      <td>0</td>\n",
       "    </tr>\n",
       "    <tr>\n",
       "      <th>Rev</th>\n",
       "      <td>0</td>\n",
       "      <td>6</td>\n",
       "    </tr>\n",
       "    <tr>\n",
       "      <th>Sir</th>\n",
       "      <td>0</td>\n",
       "      <td>1</td>\n",
       "    </tr>\n",
       "  </tbody>\n",
       "</table>\n",
       "</div>"
      ],
      "text/plain": [
       "Sex       female  male\n",
       "Title                 \n",
       "Capt           0     1\n",
       "Col            0     2\n",
       "Countess       1     0\n",
       "Don            0     1\n",
       "Dr             1     6\n",
       "Jonkheer       0     1\n",
       "Lady           1     0\n",
       "Major          0     2\n",
       "Master         0    40\n",
       "Miss         182     0\n",
       "Mlle           2     0\n",
       "Mme            1     0\n",
       "Mr             0   517\n",
       "Mrs          125     0\n",
       "Ms             1     0\n",
       "Rev            0     6\n",
       "Sir            0     1"
      ]
     },
     "execution_count": 11,
     "metadata": {},
     "output_type": "execute_result"
    }
   ],
   "source": [
    "data = [train, test]\n",
    "for dataset in data:\n",
    "    dataset['Title'] = dataset.Name.str.extract(' ([A-Za-z]+)\\.', expand=False)\n",
    "\n",
    "pd.crosstab(train['Title'], train['Sex'])"
   ]
  },
  {
   "cell_type": "code",
   "execution_count": 12,
   "id": "8008866a",
   "metadata": {
    "execution": {
     "iopub.execute_input": "2022-02-26T06:02:10.413883Z",
     "iopub.status.busy": "2022-02-26T06:02:10.413208Z",
     "iopub.status.idle": "2022-02-26T06:02:10.435795Z",
     "shell.execute_reply": "2022-02-26T06:02:10.436433Z",
     "shell.execute_reply.started": "2022-02-26T06:01:24.613083Z"
    },
    "papermill": {
     "duration": 0.100842,
     "end_time": "2022-02-26T06:02:10.436606",
     "exception": false,
     "start_time": "2022-02-26T06:02:10.335764",
     "status": "completed"
    },
    "tags": []
   },
   "outputs": [
    {
     "data": {
      "text/html": [
       "<div>\n",
       "<style scoped>\n",
       "    .dataframe tbody tr th:only-of-type {\n",
       "        vertical-align: middle;\n",
       "    }\n",
       "\n",
       "    .dataframe tbody tr th {\n",
       "        vertical-align: top;\n",
       "    }\n",
       "\n",
       "    .dataframe thead th {\n",
       "        text-align: right;\n",
       "    }\n",
       "</style>\n",
       "<table border=\"1\" class=\"dataframe\">\n",
       "  <thead>\n",
       "    <tr style=\"text-align: right;\">\n",
       "      <th></th>\n",
       "      <th>Title</th>\n",
       "      <th>Survived</th>\n",
       "    </tr>\n",
       "  </thead>\n",
       "  <tbody>\n",
       "    <tr>\n",
       "      <th>0</th>\n",
       "      <td>Dr</td>\n",
       "      <td>0.428571</td>\n",
       "    </tr>\n",
       "    <tr>\n",
       "      <th>1</th>\n",
       "      <td>Master</td>\n",
       "      <td>0.575000</td>\n",
       "    </tr>\n",
       "    <tr>\n",
       "      <th>2</th>\n",
       "      <td>Miss</td>\n",
       "      <td>0.702703</td>\n",
       "    </tr>\n",
       "    <tr>\n",
       "      <th>3</th>\n",
       "      <td>Mr</td>\n",
       "      <td>0.156673</td>\n",
       "    </tr>\n",
       "    <tr>\n",
       "      <th>4</th>\n",
       "      <td>Mrs</td>\n",
       "      <td>0.793651</td>\n",
       "    </tr>\n",
       "    <tr>\n",
       "      <th>5</th>\n",
       "      <td>Others</td>\n",
       "      <td>0.312500</td>\n",
       "    </tr>\n",
       "  </tbody>\n",
       "</table>\n",
       "</div>"
      ],
      "text/plain": [
       "    Title  Survived\n",
       "0      Dr  0.428571\n",
       "1  Master  0.575000\n",
       "2    Miss  0.702703\n",
       "3      Mr  0.156673\n",
       "4     Mrs  0.793651\n",
       "5  Others  0.312500"
      ]
     },
     "execution_count": 12,
     "metadata": {},
     "output_type": "execute_result"
    }
   ],
   "source": [
    "for dataset in data:\n",
    "    dataset['Title'] = dataset['Title'].replace(['Lady', 'Countess','Capt', 'Col', \n",
    "                                                 'Don', 'Major', 'Rev', 'Sir', 'Jonkheer', 'Dona'], 'Others')\n",
    "\n",
    "    dataset['Title'] = dataset['Title'].replace('Mlle', 'Miss')\n",
    "    dataset['Title'] = dataset['Title'].replace('Ms', 'Miss')\n",
    "    dataset['Title'] = dataset['Title'].replace('Mme', 'Mrs')\n",
    "    \n",
    "train[['Title', 'Survived']].groupby(['Title'], as_index=False).mean()"
   ]
  },
  {
   "cell_type": "code",
   "execution_count": 13,
   "id": "cba3fdb1",
   "metadata": {
    "execution": {
     "iopub.execute_input": "2022-02-26T06:02:10.593225Z",
     "iopub.status.busy": "2022-02-26T06:02:10.592587Z",
     "iopub.status.idle": "2022-02-26T06:02:10.598185Z",
     "shell.execute_reply": "2022-02-26T06:02:10.598719Z",
     "shell.execute_reply.started": "2022-02-26T06:01:24.638579Z"
    },
    "papermill": {
     "duration": 0.085013,
     "end_time": "2022-02-26T06:02:10.598902",
     "exception": false,
     "start_time": "2022-02-26T06:02:10.513889",
     "status": "completed"
    },
    "tags": []
   },
   "outputs": [],
   "source": [
    "train.drop(['Name'], axis = 1, inplace = True)\n",
    "test.drop(['Name'], axis = 1, inplace = True)"
   ]
  },
  {
   "cell_type": "code",
   "execution_count": 14,
   "id": "e8dbaba7",
   "metadata": {
    "execution": {
     "iopub.execute_input": "2022-02-26T06:02:10.752027Z",
     "iopub.status.busy": "2022-02-26T06:02:10.751382Z",
     "iopub.status.idle": "2022-02-26T06:02:10.762866Z",
     "shell.execute_reply": "2022-02-26T06:02:10.763351Z",
     "shell.execute_reply.started": "2022-02-26T06:01:24.647005Z"
    },
    "papermill": {
     "duration": 0.089959,
     "end_time": "2022-02-26T06:02:10.763526",
     "exception": false,
     "start_time": "2022-02-26T06:02:10.673567",
     "status": "completed"
    },
    "tags": []
   },
   "outputs": [
    {
     "data": {
      "text/html": [
       "<div>\n",
       "<style scoped>\n",
       "    .dataframe tbody tr th:only-of-type {\n",
       "        vertical-align: middle;\n",
       "    }\n",
       "\n",
       "    .dataframe tbody tr th {\n",
       "        vertical-align: top;\n",
       "    }\n",
       "\n",
       "    .dataframe thead th {\n",
       "        text-align: right;\n",
       "    }\n",
       "</style>\n",
       "<table border=\"1\" class=\"dataframe\">\n",
       "  <thead>\n",
       "    <tr style=\"text-align: right;\">\n",
       "      <th></th>\n",
       "      <th>Survived</th>\n",
       "    </tr>\n",
       "    <tr>\n",
       "      <th>Pclass</th>\n",
       "      <th></th>\n",
       "    </tr>\n",
       "  </thead>\n",
       "  <tbody>\n",
       "    <tr>\n",
       "      <th>1</th>\n",
       "      <td>0.629630</td>\n",
       "    </tr>\n",
       "    <tr>\n",
       "      <th>2</th>\n",
       "      <td>0.472826</td>\n",
       "    </tr>\n",
       "    <tr>\n",
       "      <th>3</th>\n",
       "      <td>0.242363</td>\n",
       "    </tr>\n",
       "  </tbody>\n",
       "</table>\n",
       "</div>"
      ],
      "text/plain": [
       "        Survived\n",
       "Pclass          \n",
       "1       0.629630\n",
       "2       0.472826\n",
       "3       0.242363"
      ]
     },
     "execution_count": 14,
     "metadata": {},
     "output_type": "execute_result"
    }
   ],
   "source": [
    "train[['Pclass', 'Survived']].groupby(['Pclass'], as_index=True).mean().sort_values(by='Survived', ascending=False)"
   ]
  },
  {
   "cell_type": "code",
   "execution_count": 15,
   "id": "4ad897e7",
   "metadata": {
    "execution": {
     "iopub.execute_input": "2022-02-26T06:02:10.919083Z",
     "iopub.status.busy": "2022-02-26T06:02:10.918482Z",
     "iopub.status.idle": "2022-02-26T06:02:10.931433Z",
     "shell.execute_reply": "2022-02-26T06:02:10.930884Z",
     "shell.execute_reply.started": "2022-02-26T06:01:24.665575Z"
    },
    "papermill": {
     "duration": 0.091017,
     "end_time": "2022-02-26T06:02:10.931572",
     "exception": false,
     "start_time": "2022-02-26T06:02:10.840555",
     "status": "completed"
    },
    "tags": []
   },
   "outputs": [
    {
     "data": {
      "text/html": [
       "<div>\n",
       "<style scoped>\n",
       "    .dataframe tbody tr th:only-of-type {\n",
       "        vertical-align: middle;\n",
       "    }\n",
       "\n",
       "    .dataframe tbody tr th {\n",
       "        vertical-align: top;\n",
       "    }\n",
       "\n",
       "    .dataframe thead th {\n",
       "        text-align: right;\n",
       "    }\n",
       "</style>\n",
       "<table border=\"1\" class=\"dataframe\">\n",
       "  <thead>\n",
       "    <tr style=\"text-align: right;\">\n",
       "      <th></th>\n",
       "      <th>Survived</th>\n",
       "    </tr>\n",
       "    <tr>\n",
       "      <th>Sex</th>\n",
       "      <th></th>\n",
       "    </tr>\n",
       "  </thead>\n",
       "  <tbody>\n",
       "    <tr>\n",
       "      <th>female</th>\n",
       "      <td>0.742038</td>\n",
       "    </tr>\n",
       "    <tr>\n",
       "      <th>male</th>\n",
       "      <td>0.188908</td>\n",
       "    </tr>\n",
       "  </tbody>\n",
       "</table>\n",
       "</div>"
      ],
      "text/plain": [
       "        Survived\n",
       "Sex             \n",
       "female  0.742038\n",
       "male    0.188908"
      ]
     },
     "execution_count": 15,
     "metadata": {},
     "output_type": "execute_result"
    }
   ],
   "source": [
    "train[[\"Sex\", \"Survived\"]].groupby(['Sex'], as_index=True).mean().sort_values(by='Survived', ascending=False)"
   ]
  },
  {
   "cell_type": "code",
   "execution_count": 16,
   "id": "336dcb66",
   "metadata": {
    "execution": {
     "iopub.execute_input": "2022-02-26T06:02:11.087955Z",
     "iopub.status.busy": "2022-02-26T06:02:11.086987Z",
     "iopub.status.idle": "2022-02-26T06:02:11.099654Z",
     "shell.execute_reply": "2022-02-26T06:02:11.100252Z",
     "shell.execute_reply.started": "2022-02-26T06:01:24.680345Z"
    },
    "papermill": {
     "duration": 0.092634,
     "end_time": "2022-02-26T06:02:11.100441",
     "exception": false,
     "start_time": "2022-02-26T06:02:11.007807",
     "status": "completed"
    },
    "tags": []
   },
   "outputs": [
    {
     "data": {
      "text/html": [
       "<div>\n",
       "<style scoped>\n",
       "    .dataframe tbody tr th:only-of-type {\n",
       "        vertical-align: middle;\n",
       "    }\n",
       "\n",
       "    .dataframe tbody tr th {\n",
       "        vertical-align: top;\n",
       "    }\n",
       "\n",
       "    .dataframe thead th {\n",
       "        text-align: right;\n",
       "    }\n",
       "</style>\n",
       "<table border=\"1\" class=\"dataframe\">\n",
       "  <thead>\n",
       "    <tr style=\"text-align: right;\">\n",
       "      <th></th>\n",
       "      <th>Survived</th>\n",
       "    </tr>\n",
       "    <tr>\n",
       "      <th>SibSp</th>\n",
       "      <th></th>\n",
       "    </tr>\n",
       "  </thead>\n",
       "  <tbody>\n",
       "    <tr>\n",
       "      <th>1</th>\n",
       "      <td>0.535885</td>\n",
       "    </tr>\n",
       "    <tr>\n",
       "      <th>2</th>\n",
       "      <td>0.464286</td>\n",
       "    </tr>\n",
       "    <tr>\n",
       "      <th>0</th>\n",
       "      <td>0.345395</td>\n",
       "    </tr>\n",
       "    <tr>\n",
       "      <th>3</th>\n",
       "      <td>0.250000</td>\n",
       "    </tr>\n",
       "    <tr>\n",
       "      <th>4</th>\n",
       "      <td>0.166667</td>\n",
       "    </tr>\n",
       "    <tr>\n",
       "      <th>5</th>\n",
       "      <td>0.000000</td>\n",
       "    </tr>\n",
       "    <tr>\n",
       "      <th>8</th>\n",
       "      <td>0.000000</td>\n",
       "    </tr>\n",
       "  </tbody>\n",
       "</table>\n",
       "</div>"
      ],
      "text/plain": [
       "       Survived\n",
       "SibSp          \n",
       "1      0.535885\n",
       "2      0.464286\n",
       "0      0.345395\n",
       "3      0.250000\n",
       "4      0.166667\n",
       "5      0.000000\n",
       "8      0.000000"
      ]
     },
     "execution_count": 16,
     "metadata": {},
     "output_type": "execute_result"
    }
   ],
   "source": [
    "train[[\"SibSp\", \"Survived\"]].groupby(['SibSp'], as_index=True).mean().sort_values(by='Survived', ascending=False)"
   ]
  },
  {
   "cell_type": "code",
   "execution_count": 17,
   "id": "ee549de4",
   "metadata": {
    "execution": {
     "iopub.execute_input": "2022-02-26T06:02:11.257178Z",
     "iopub.status.busy": "2022-02-26T06:02:11.256193Z",
     "iopub.status.idle": "2022-02-26T06:02:11.268624Z",
     "shell.execute_reply": "2022-02-26T06:02:11.269217Z",
     "shell.execute_reply.started": "2022-02-26T06:01:24.695935Z"
    },
    "papermill": {
     "duration": 0.092608,
     "end_time": "2022-02-26T06:02:11.269411",
     "exception": false,
     "start_time": "2022-02-26T06:02:11.176803",
     "status": "completed"
    },
    "tags": []
   },
   "outputs": [
    {
     "data": {
      "text/html": [
       "<div>\n",
       "<style scoped>\n",
       "    .dataframe tbody tr th:only-of-type {\n",
       "        vertical-align: middle;\n",
       "    }\n",
       "\n",
       "    .dataframe tbody tr th {\n",
       "        vertical-align: top;\n",
       "    }\n",
       "\n",
       "    .dataframe thead th {\n",
       "        text-align: right;\n",
       "    }\n",
       "</style>\n",
       "<table border=\"1\" class=\"dataframe\">\n",
       "  <thead>\n",
       "    <tr style=\"text-align: right;\">\n",
       "      <th></th>\n",
       "      <th>Survived</th>\n",
       "    </tr>\n",
       "    <tr>\n",
       "      <th>Parch</th>\n",
       "      <th></th>\n",
       "    </tr>\n",
       "  </thead>\n",
       "  <tbody>\n",
       "    <tr>\n",
       "      <th>3</th>\n",
       "      <td>0.600000</td>\n",
       "    </tr>\n",
       "    <tr>\n",
       "      <th>1</th>\n",
       "      <td>0.550847</td>\n",
       "    </tr>\n",
       "    <tr>\n",
       "      <th>2</th>\n",
       "      <td>0.500000</td>\n",
       "    </tr>\n",
       "    <tr>\n",
       "      <th>0</th>\n",
       "      <td>0.343658</td>\n",
       "    </tr>\n",
       "    <tr>\n",
       "      <th>5</th>\n",
       "      <td>0.200000</td>\n",
       "    </tr>\n",
       "    <tr>\n",
       "      <th>4</th>\n",
       "      <td>0.000000</td>\n",
       "    </tr>\n",
       "    <tr>\n",
       "      <th>6</th>\n",
       "      <td>0.000000</td>\n",
       "    </tr>\n",
       "  </tbody>\n",
       "</table>\n",
       "</div>"
      ],
      "text/plain": [
       "       Survived\n",
       "Parch          \n",
       "3      0.600000\n",
       "1      0.550847\n",
       "2      0.500000\n",
       "0      0.343658\n",
       "5      0.200000\n",
       "4      0.000000\n",
       "6      0.000000"
      ]
     },
     "execution_count": 17,
     "metadata": {},
     "output_type": "execute_result"
    }
   ],
   "source": [
    "train[[\"Parch\", \"Survived\"]].groupby(['Parch'], as_index=True).mean().sort_values(by='Survived', ascending=False)"
   ]
  },
  {
   "cell_type": "code",
   "execution_count": 18,
   "id": "da684588",
   "metadata": {
    "execution": {
     "iopub.execute_input": "2022-02-26T06:02:11.426144Z",
     "iopub.status.busy": "2022-02-26T06:02:11.425175Z",
     "iopub.status.idle": "2022-02-26T06:02:11.444094Z",
     "shell.execute_reply": "2022-02-26T06:02:11.444717Z",
     "shell.execute_reply.started": "2022-02-26T06:01:24.711954Z"
    },
    "papermill": {
     "duration": 0.099033,
     "end_time": "2022-02-26T06:02:11.444888",
     "exception": false,
     "start_time": "2022-02-26T06:02:11.345855",
     "status": "completed"
    },
    "tags": []
   },
   "outputs": [
    {
     "data": {
      "text/html": [
       "<div>\n",
       "<style scoped>\n",
       "    .dataframe tbody tr th:only-of-type {\n",
       "        vertical-align: middle;\n",
       "    }\n",
       "\n",
       "    .dataframe tbody tr th {\n",
       "        vertical-align: top;\n",
       "    }\n",
       "\n",
       "    .dataframe thead th {\n",
       "        text-align: right;\n",
       "    }\n",
       "</style>\n",
       "<table border=\"1\" class=\"dataframe\">\n",
       "  <thead>\n",
       "    <tr style=\"text-align: right;\">\n",
       "      <th></th>\n",
       "      <th>Total</th>\n",
       "      <th>%</th>\n",
       "    </tr>\n",
       "  </thead>\n",
       "  <tbody>\n",
       "    <tr>\n",
       "      <th>Age</th>\n",
       "      <td>177</td>\n",
       "      <td>19.9</td>\n",
       "    </tr>\n",
       "    <tr>\n",
       "      <th>Embarked</th>\n",
       "      <td>2</td>\n",
       "      <td>0.2</td>\n",
       "    </tr>\n",
       "    <tr>\n",
       "      <th>Survived</th>\n",
       "      <td>0</td>\n",
       "      <td>0.0</td>\n",
       "    </tr>\n",
       "    <tr>\n",
       "      <th>Pclass</th>\n",
       "      <td>0</td>\n",
       "      <td>0.0</td>\n",
       "    </tr>\n",
       "    <tr>\n",
       "      <th>Sex</th>\n",
       "      <td>0</td>\n",
       "      <td>0.0</td>\n",
       "    </tr>\n",
       "  </tbody>\n",
       "</table>\n",
       "</div>"
      ],
      "text/plain": [
       "          Total     %\n",
       "Age         177  19.9\n",
       "Embarked      2   0.2\n",
       "Survived      0   0.0\n",
       "Pclass        0   0.0\n",
       "Sex           0   0.0"
      ]
     },
     "execution_count": 18,
     "metadata": {},
     "output_type": "execute_result"
    }
   ],
   "source": [
    "total = train.isnull().sum().sort_values(ascending=False)\n",
    "percent_1 = train.isnull().sum()/train.isnull().count()*100\n",
    "percent_2 = (round(percent_1, 1)).sort_values(ascending=False)\n",
    "missing_data = pd.concat([total, percent_2], axis=1, keys=['Total', '%'])\n",
    "missing_data.head(5)"
   ]
  },
  {
   "cell_type": "markdown",
   "id": "e1e63756",
   "metadata": {
    "papermill": {
     "duration": 0.077487,
     "end_time": "2022-02-26T06:02:11.601067",
     "exception": false,
     "start_time": "2022-02-26T06:02:11.523580",
     "status": "completed"
    },
    "tags": []
   },
   "source": [
    "- Age has a high percentage of missing values.\n",
    "- Age is a primary factor in determining whether they survived or not.\n",
    "- Therefore, we cannot drop the 'Age' column.\n",
    "\n",
    "## How to fill the NA values in Age column?\n",
    "<br>\n",
    "- Age seems to be promising feature. So it doesn't make sense to simply fill null values out with median/mean/mode.\n",
    "- Let us visualize the Age column based on Sex of passengers."
   ]
  },
  {
   "cell_type": "code",
   "execution_count": 19,
   "id": "f3092714",
   "metadata": {
    "execution": {
     "iopub.execute_input": "2022-02-26T06:02:11.760821Z",
     "iopub.status.busy": "2022-02-26T06:02:11.759816Z",
     "iopub.status.idle": "2022-02-26T06:02:12.467742Z",
     "shell.execute_reply": "2022-02-26T06:02:12.467149Z",
     "shell.execute_reply.started": "2022-02-26T06:01:24.737911Z"
    },
    "papermill": {
     "duration": 0.78927,
     "end_time": "2022-02-26T06:02:12.467883",
     "exception": false,
     "start_time": "2022-02-26T06:02:11.678613",
     "status": "completed"
    },
    "tags": []
   },
   "outputs": [
    {
     "name": "stderr",
     "output_type": "stream",
     "text": [
      "/opt/conda/lib/python3.7/site-packages/seaborn/distributions.py:2619: FutureWarning: `distplot` is a deprecated function and will be removed in a future version. Please adapt your code to use either `displot` (a figure-level function with similar flexibility) or `histplot` (an axes-level function for histograms).\n",
      "  warnings.warn(msg, FutureWarning)\n"
     ]
    },
    {
     "data": {
      "image/png": "[encoded data removed]",
      "text/plain": [
       "<Figure size 720x288 with 2 Axes>"
      ]
     },
     "metadata": {
      "needs_background": "light"
     },
     "output_type": "display_data"
    }
   ],
   "source": [
    "survived = 'survived'\n",
    "not_survived = 'not survived'\n",
    "fig, axes = plt.subplots(nrows=1, ncols=2,figsize=(10, 4))\n",
    "women = train[train['Sex']=='female']\n",
    "men = train[train['Sex']=='male']\n",
    "ax = sns.distplot(women[women['Survived']==1].Age.dropna(), bins=18, label = survived, ax = axes[0], kde =False)\n",
    "ax = sns.distplot(women[women['Survived']==0].Age.dropna(), bins=40, label = not_survived, ax = axes[0], kde =False)\n",
    "ax.legend()\n",
    "ax.set_title('Female')\n",
    "ax = sns.distplot(men[men['Survived']==1].Age.dropna(), bins=18, label = survived, ax = axes[1], kde = False)\n",
    "ax = sns.distplot(men[men['Survived']==0].Age.dropna(), bins=40, label = not_survived, ax = axes[1], kde = False)\n",
    "ax.legend()\n",
    "_ = ax.set_title('Male')"
   ]
  },
  {
   "cell_type": "markdown",
   "id": "891d3cbf",
   "metadata": {
    "papermill": {
     "duration": 0.081278,
     "end_time": "2022-02-26T06:02:12.630513",
     "exception": false,
     "start_time": "2022-02-26T06:02:12.549235",
     "status": "completed"
    },
    "tags": []
   },
   "source": [
    "## Inferences\n",
    "\n",
    "- Certain Age groups have higher chances of survival which is evident from the distplot.\n",
    "- Infants have higher chances of survival.\n",
    "- Women have higher chances of survival than men.\n",
    "- Men aged 5 to 18 have low chances of survival.\n",
    "- Women aged 14-30 have higher chances of survival.\n",
    "- Men aged 18-30 have higher chances of survival."
   ]
  },
  {
   "cell_type": "markdown",
   "id": "b73f36da",
   "metadata": {
    "papermill": {
     "duration": 0.078755,
     "end_time": "2022-02-26T06:02:12.788084",
     "exception": false,
     "start_time": "2022-02-26T06:02:12.709329",
     "status": "completed"
    },
    "tags": []
   },
   "source": [
    "## Dealing with Age missing values"
   ]
  },
  {
   "cell_type": "code",
   "execution_count": 20,
   "id": "1ce20fb8",
   "metadata": {
    "execution": {
     "iopub.execute_input": "2022-02-26T06:02:12.951890Z",
     "iopub.status.busy": "2022-02-26T06:02:12.951233Z",
     "iopub.status.idle": "2022-02-26T06:02:12.965855Z",
     "shell.execute_reply": "2022-02-26T06:02:12.966329Z",
     "shell.execute_reply.started": "2022-02-26T06:01:25.481149Z"
    },
    "papermill": {
     "duration": 0.098939,
     "end_time": "2022-02-26T06:02:12.966506",
     "exception": false,
     "start_time": "2022-02-26T06:02:12.867567",
     "status": "completed"
    },
    "tags": []
   },
   "outputs": [
    {
     "name": "stderr",
     "output_type": "stream",
     "text": [
      "/opt/conda/lib/python3.7/site-packages/ipykernel_launcher.py:10: SettingWithCopyWarning: \n",
      "A value is trying to be set on a copy of a slice from a DataFrame\n",
      "\n",
      "See the caveats in the documentation: https://pandas.pydata.org/pandas-docs/stable/user_guide/indexing.html#returning-a-view-versus-a-copy\n",
      "  # Remove the CWD from sys.path while we load stuff.\n"
     ]
    }
   ],
   "source": [
    "data = [train, test]\n",
    "\n",
    "for dataset in data:\n",
    "    mean = train['Age'].mean()\n",
    "    std = train['Age'].std()\n",
    "    null_val = dataset['Age'].isnull().sum()\n",
    "    rand_age = np.random.randint(mean-std, mean+std, size = null_val)\n",
    "    \n",
    "    age_slice = dataset['Age']\n",
    "    age_slice[np.isnan(age_slice)] = rand_age\n",
    "    dataset['Age'] = age_slice\n",
    "    dataset['Age'] = train['Age'].astype(int)"
   ]
  },
  {
   "cell_type": "code",
   "execution_count": 21,
   "id": "35a21fab",
   "metadata": {
    "execution": {
     "iopub.execute_input": "2022-02-26T06:02:13.134209Z",
     "iopub.status.busy": "2022-02-26T06:02:13.133582Z",
     "iopub.status.idle": "2022-02-26T06:02:13.136492Z",
     "shell.execute_reply": "2022-02-26T06:02:13.137069Z",
     "shell.execute_reply.started": "2022-02-26T06:01:25.499269Z"
    },
    "papermill": {
     "duration": 0.090378,
     "end_time": "2022-02-26T06:02:13.137242",
     "exception": false,
     "start_time": "2022-02-26T06:02:13.046864",
     "status": "completed"
    },
    "tags": []
   },
   "outputs": [
    {
     "data": {
      "text/plain": [
       "0"
      ]
     },
     "execution_count": 21,
     "metadata": {},
     "output_type": "execute_result"
    }
   ],
   "source": [
    "train['Age'].isnull().sum()"
   ]
  },
  {
   "cell_type": "markdown",
   "id": "55d8163f",
   "metadata": {
    "execution": {
     "iopub.execute_input": "2022-02-24T10:37:51.459973Z",
     "iopub.status.busy": "2022-02-24T10:37:51.459647Z",
     "iopub.status.idle": "2022-02-24T10:37:51.481062Z",
     "shell.execute_reply": "2022-02-24T10:37:51.480116Z",
     "shell.execute_reply.started": "2022-02-24T10:37:51.45994Z"
    },
    "papermill": {
     "duration": 0.080779,
     "end_time": "2022-02-26T06:02:13.298620",
     "exception": false,
     "start_time": "2022-02-26T06:02:13.217841",
     "status": "completed"
    },
    "tags": []
   },
   "source": [
    "## Now we deal with the missing values in the embarked column."
   ]
  },
  {
   "cell_type": "code",
   "execution_count": 22,
   "id": "f5551232",
   "metadata": {
    "execution": {
     "iopub.execute_input": "2022-02-26T06:02:13.462003Z",
     "iopub.status.busy": "2022-02-26T06:02:13.461404Z",
     "iopub.status.idle": "2022-02-26T06:02:13.470097Z",
     "shell.execute_reply": "2022-02-26T06:02:13.469612Z",
     "shell.execute_reply.started": "2022-02-26T06:01:25.516040Z"
    },
    "papermill": {
     "duration": 0.091316,
     "end_time": "2022-02-26T06:02:13.470232",
     "exception": false,
     "start_time": "2022-02-26T06:02:13.378916",
     "status": "completed"
    },
    "tags": []
   },
   "outputs": [
    {
     "data": {
      "text/plain": [
       "count     889\n",
       "unique      3\n",
       "top         S\n",
       "freq      644\n",
       "Name: Embarked, dtype: object"
      ]
     },
     "execution_count": 22,
     "metadata": {},
     "output_type": "execute_result"
    }
   ],
   "source": [
    "train['Embarked'].describe()"
   ]
  },
  {
   "cell_type": "code",
   "execution_count": 23,
   "id": "bf113f9f",
   "metadata": {
    "execution": {
     "iopub.execute_input": "2022-02-26T06:02:13.634747Z",
     "iopub.status.busy": "2022-02-26T06:02:13.634134Z",
     "iopub.status.idle": "2022-02-26T06:02:13.640927Z",
     "shell.execute_reply": "2022-02-26T06:02:13.641392Z",
     "shell.execute_reply.started": "2022-02-26T06:01:25.526539Z"
    },
    "papermill": {
     "duration": 0.089962,
     "end_time": "2022-02-26T06:02:13.641563",
     "exception": false,
     "start_time": "2022-02-26T06:02:13.551601",
     "status": "completed"
    },
    "tags": []
   },
   "outputs": [
    {
     "data": {
      "text/plain": [
       "S    644\n",
       "C    168\n",
       "Q     77\n",
       "Name: Embarked, dtype: int64"
      ]
     },
     "execution_count": 23,
     "metadata": {},
     "output_type": "execute_result"
    }
   ],
   "source": [
    "train['Embarked'].value_counts()"
   ]
  },
  {
   "cell_type": "code",
   "execution_count": 24,
   "id": "9a210338",
   "metadata": {
    "execution": {
     "iopub.execute_input": "2022-02-26T06:02:13.810867Z",
     "iopub.status.busy": "2022-02-26T06:02:13.809887Z",
     "iopub.status.idle": "2022-02-26T06:02:13.813774Z",
     "shell.execute_reply": "2022-02-26T06:02:13.814212Z",
     "shell.execute_reply.started": "2022-02-26T06:01:25.535630Z"
    },
    "papermill": {
     "duration": 0.092038,
     "end_time": "2022-02-26T06:02:13.814402",
     "exception": false,
     "start_time": "2022-02-26T06:02:13.722364",
     "status": "completed"
    },
    "tags": []
   },
   "outputs": [],
   "source": [
    "most_freq_val = 'S'\n",
    "data = [train, test]\n",
    "\n",
    "for dataset in data:\n",
    "    dataset['Embarked'] = dataset['Embarked'].fillna(most_freq_val)"
   ]
  },
  {
   "cell_type": "code",
   "execution_count": 25,
   "id": "2e4017ce",
   "metadata": {
    "execution": {
     "iopub.execute_input": "2022-02-26T06:02:13.984755Z",
     "iopub.status.busy": "2022-02-26T06:02:13.983798Z",
     "iopub.status.idle": "2022-02-26T06:02:13.999077Z",
     "shell.execute_reply": "2022-02-26T06:02:13.998205Z",
     "shell.execute_reply.started": "2022-02-26T06:01:25.544870Z"
    },
    "papermill": {
     "duration": 0.100081,
     "end_time": "2022-02-26T06:02:13.999275",
     "exception": false,
     "start_time": "2022-02-26T06:02:13.899194",
     "status": "completed"
    },
    "tags": []
   },
   "outputs": [
    {
     "name": "stdout",
     "output_type": "stream",
     "text": [
      "<class 'pandas.core.frame.DataFrame'>\n",
      "RangeIndex: 891 entries, 0 to 890\n",
      "Data columns (total 10 columns):\n",
      " #   Column    Non-Null Count  Dtype  \n",
      "---  ------    --------------  -----  \n",
      " 0   Survived  891 non-null    int64  \n",
      " 1   Pclass    891 non-null    int64  \n",
      " 2   Sex       891 non-null    object \n",
      " 3   Age       891 non-null    int64  \n",
      " 4   SibSp     891 non-null    int64  \n",
      " 5   Parch     891 non-null    int64  \n",
      " 6   Fare      891 non-null    float64\n",
      " 7   Embarked  891 non-null    object \n",
      " 8   Deck      891 non-null    int64  \n",
      " 9   Title     891 non-null    object \n",
      "dtypes: float64(1), int64(6), object(3)\n",
      "memory usage: 69.7+ KB\n"
     ]
    }
   ],
   "source": [
    "train.info()"
   ]
  },
  {
   "cell_type": "markdown",
   "id": "d60a66b2",
   "metadata": {
    "papermill": {
     "duration": 0.081283,
     "end_time": "2022-02-26T06:02:14.164098",
     "exception": false,
     "start_time": "2022-02-26T06:02:14.082815",
     "status": "completed"
    },
    "tags": []
   },
   "source": [
    "## Filling in the Missing values in Fare column"
   ]
  },
  {
   "cell_type": "code",
   "execution_count": 26,
   "id": "d22ef475",
   "metadata": {
    "execution": {
     "iopub.execute_input": "2022-02-26T06:02:14.330022Z",
     "iopub.status.busy": "2022-02-26T06:02:14.329124Z",
     "iopub.status.idle": "2022-02-26T06:02:14.337627Z",
     "shell.execute_reply": "2022-02-26T06:02:14.338150Z",
     "shell.execute_reply.started": "2022-02-26T06:01:25.564353Z"
    },
    "papermill": {
     "duration": 0.093078,
     "end_time": "2022-02-26T06:02:14.338340",
     "exception": false,
     "start_time": "2022-02-26T06:02:14.245262",
     "status": "completed"
    },
    "tags": []
   },
   "outputs": [
    {
     "data": {
      "text/plain": [
       "0"
      ]
     },
     "execution_count": 26,
     "metadata": {},
     "output_type": "execute_result"
    }
   ],
   "source": [
    "data = [train, test]\n",
    "\n",
    "for dataset in data:\n",
    "    mean_fare = dataset['Fare'].fillna(0).mean()\n",
    "    dataset['Fare'] = dataset['Fare'].fillna(mean_fare)\n",
    "\n",
    "test['Fare'].isnull().sum()"
   ]
  },
  {
   "cell_type": "markdown",
   "id": "38c53dcc",
   "metadata": {
    "papermill": {
     "duration": 0.081495,
     "end_time": "2022-02-26T06:02:14.501008",
     "exception": false,
     "start_time": "2022-02-26T06:02:14.419513",
     "status": "completed"
    },
    "tags": []
   },
   "source": [
    "## Grouping Age values"
   ]
  },
  {
   "cell_type": "code",
   "execution_count": 27,
   "id": "abd822a3",
   "metadata": {
    "execution": {
     "iopub.execute_input": "2022-02-26T06:02:14.667888Z",
     "iopub.status.busy": "2022-02-26T06:02:14.666917Z",
     "iopub.status.idle": "2022-02-26T06:02:14.670362Z",
     "shell.execute_reply": "2022-02-26T06:02:14.670945Z",
     "shell.execute_reply.started": "2022-02-26T06:01:25.576220Z"
    },
    "papermill": {
     "duration": 0.088149,
     "end_time": "2022-02-26T06:02:14.671120",
     "exception": false,
     "start_time": "2022-02-26T06:02:14.582971",
     "status": "completed"
    },
    "tags": []
   },
   "outputs": [],
   "source": [
    "# data = [train, test]\n",
    "\n",
    "# for dataset in data:\n",
    "#     dataset['Age'] = pd.qcut(dataset['Age'], q = 6, labels= False)\n",
    "\n",
    "# # let's see how it's distributed train['Age'].value_counts()"
   ]
  },
  {
   "cell_type": "code",
   "execution_count": 28,
   "id": "ae8cc259",
   "metadata": {
    "execution": {
     "iopub.execute_input": "2022-02-26T06:02:14.837559Z",
     "iopub.status.busy": "2022-02-26T06:02:14.836574Z",
     "iopub.status.idle": "2022-02-26T06:02:14.844196Z",
     "shell.execute_reply": "2022-02-26T06:02:14.844800Z",
     "shell.execute_reply.started": "2022-02-26T06:01:25.585966Z"
    },
    "papermill": {
     "duration": 0.092825,
     "end_time": "2022-02-26T06:02:14.844966",
     "exception": false,
     "start_time": "2022-02-26T06:02:14.752141",
     "status": "completed"
    },
    "tags": []
   },
   "outputs": [
    {
     "data": {
      "text/plain": [
       "28    37\n",
       "24    35\n",
       "21    32\n",
       "30    32\n",
       "18    32\n",
       "      ..\n",
       "12     1\n",
       "53     1\n",
       "80     1\n",
       "66     1\n",
       "74     1\n",
       "Name: Age, Length: 71, dtype: int64"
      ]
     },
     "execution_count": 28,
     "metadata": {},
     "output_type": "execute_result"
    }
   ],
   "source": [
    "train['Age'].value_counts()"
   ]
  },
  {
   "cell_type": "markdown",
   "id": "06737c1a",
   "metadata": {
    "papermill": {
     "duration": 0.081809,
     "end_time": "2022-02-26T06:02:15.009006",
     "exception": false,
     "start_time": "2022-02-26T06:02:14.927197",
     "status": "completed"
    },
    "tags": []
   },
   "source": [
    "<b>NOTE:</b> Experiment with bins and cut() function to refine the model accuracy. <br>\n",
    "Also, implement the 'Name' and 'Cabin' columns as features."
   ]
  },
  {
   "cell_type": "markdown",
   "id": "382c3c39",
   "metadata": {
    "papermill": {
     "duration": 0.081544,
     "end_time": "2022-02-26T06:02:15.174107",
     "exception": false,
     "start_time": "2022-02-26T06:02:15.092563",
     "status": "completed"
    },
    "tags": []
   },
   "source": [
    "## Checking for Outliers in 'Fare' column\n",
    "- Look for outliers in 'Fare' column.\n",
    "- If outliers present, perform robust scaling and then standard/minmax scaling.\n",
    "- No categorising 'Fare' column."
   ]
  },
  {
   "cell_type": "code",
   "execution_count": 29,
   "id": "6d071e7e",
   "metadata": {
    "execution": {
     "iopub.execute_input": "2022-02-26T06:02:15.342267Z",
     "iopub.status.busy": "2022-02-26T06:02:15.341318Z",
     "iopub.status.idle": "2022-02-26T06:02:15.542125Z",
     "shell.execute_reply": "2022-02-26T06:02:15.542615Z",
     "shell.execute_reply.started": "2022-02-26T06:01:25.604767Z"
    },
    "papermill": {
     "duration": 0.286788,
     "end_time": "2022-02-26T06:02:15.542815",
     "exception": false,
     "start_time": "2022-02-26T06:02:15.256027",
     "status": "completed"
    },
    "tags": []
   },
   "outputs": [
    {
     "name": "stderr",
     "output_type": "stream",
     "text": [
      "/opt/conda/lib/python3.7/site-packages/seaborn/distributions.py:2619: FutureWarning: `distplot` is a deprecated function and will be removed in a future version. Please adapt your code to use either `displot` (a figure-level function with similar flexibility) or `kdeplot` (an axes-level function for kernel density plots).\n",
      "  warnings.warn(msg, FutureWarning)\n"
     ]
    },
    {
     "data": {
      "text/plain": [
       "<AxesSubplot:xlabel='Fare', ylabel='Density'>"
      ]
     },
     "execution_count": 29,
     "metadata": {},
     "output_type": "execute_result"
    },
    {
     "data": {
      "image/png": "[encoded data removed]",
      "text/plain": [
       "<Figure size 432x288 with 1 Axes>"
      ]
     },
     "metadata": {
      "needs_background": "light"
     },
     "output_type": "display_data"
    }
   ],
   "source": [
    "sns.distplot(train['Fare'], hist = False, kde = True)"
   ]
  },
  {
   "cell_type": "code",
   "execution_count": 30,
   "id": "0a5f3067",
   "metadata": {
    "execution": {
     "iopub.execute_input": "2022-02-26T06:02:15.715243Z",
     "iopub.status.busy": "2022-02-26T06:02:15.714359Z",
     "iopub.status.idle": "2022-02-26T06:02:15.861868Z",
     "shell.execute_reply": "2022-02-26T06:02:15.860976Z",
     "shell.execute_reply.started": "2022-02-26T06:01:25.838996Z"
    },
    "papermill": {
     "duration": 0.234767,
     "end_time": "2022-02-26T06:02:15.862017",
     "exception": false,
     "start_time": "2022-02-26T06:02:15.627250",
     "status": "completed"
    },
    "tags": []
   },
   "outputs": [
    {
     "data": {
      "text/plain": [
       "<AxesSubplot:xlabel='Sex', ylabel='Fare'>"
      ]
     },
     "execution_count": 30,
     "metadata": {},
     "output_type": "execute_result"
    },
    {
     "data": {
      "image/png": "[encoded data removed]",
      "text/plain": [
       "<Figure size 432x288 with 1 Axes>"
      ]
     },
     "metadata": {
      "needs_background": "light"
     },
     "output_type": "display_data"
    }
   ],
   "source": [
    "ax = sns.boxplot(x = \"Sex\", y = \"Fare\", data=train)\n",
    "ax"
   ]
  },
  {
   "cell_type": "markdown",
   "id": "6f7b1ea7",
   "metadata": {
    "papermill": {
     "duration": 0.084083,
     "end_time": "2022-02-26T06:02:16.032427",
     "exception": false,
     "start_time": "2022-02-26T06:02:15.948344",
     "status": "completed"
    },
    "tags": []
   },
   "source": [
    "### Observations:\n",
    "\n",
    "- Multiple outliers present in the 'Fare' feature for both the genders.\n",
    "- We proceed to perform RobustScaler on the 'Fare' column and then proceed to scale with Standard/MinMax scaler."
   ]
  },
  {
   "cell_type": "markdown",
   "id": "8fbda98f",
   "metadata": {
    "papermill": {
     "duration": 0.084325,
     "end_time": "2022-02-26T06:02:16.201291",
     "exception": false,
     "start_time": "2022-02-26T06:02:16.116966",
     "status": "completed"
    },
    "tags": []
   },
   "source": [
    "## Scaling and Standardisation"
   ]
  },
  {
   "cell_type": "code",
   "execution_count": 31,
   "id": "ef28b906",
   "metadata": {
    "execution": {
     "iopub.execute_input": "2022-02-26T06:02:16.374874Z",
     "iopub.status.busy": "2022-02-26T06:02:16.373906Z",
     "iopub.status.idle": "2022-02-26T06:02:16.511077Z",
     "shell.execute_reply": "2022-02-26T06:02:16.510518Z",
     "shell.execute_reply.started": "2022-02-26T06:01:26.037243Z"
    },
    "papermill": {
     "duration": 0.224649,
     "end_time": "2022-02-26T06:02:16.511228",
     "exception": false,
     "start_time": "2022-02-26T06:02:16.286579",
     "status": "completed"
    },
    "tags": []
   },
   "outputs": [],
   "source": [
    "from sklearn.preprocessing import RobustScaler, StandardScaler\n",
    "\n",
    "rs = RobustScaler()\n",
    "\n",
    "for dataset in data:\n",
    "    f = pd.Series(dataset['Fare'])\n",
    "    arr = f.values\n",
    "    arr = arr.reshape(-1, 1)\n",
    "    dataset['Fare'] = rs.fit_transform(arr)\n",
    "\n",
    "sc = StandardScaler()\n",
    "\n",
    "for dataset in data:\n",
    "    f = pd.Series(dataset['Fare'])\n",
    "    arr = f.values\n",
    "    arr = arr.reshape(-1, 1)\n",
    "    dataset['Fare'] = sc.fit_transform(arr)"
   ]
  },
  {
   "cell_type": "markdown",
   "id": "488d4c54",
   "metadata": {
    "papermill": {
     "duration": 0.083647,
     "end_time": "2022-02-26T06:02:16.680806",
     "exception": false,
     "start_time": "2022-02-26T06:02:16.597159",
     "status": "completed"
    },
    "tags": []
   },
   "source": [
    "## Grouping Fare values"
   ]
  },
  {
   "cell_type": "code",
   "execution_count": 32,
   "id": "d38cafe5",
   "metadata": {
    "execution": {
     "iopub.execute_input": "2022-02-26T06:02:16.864229Z",
     "iopub.status.busy": "2022-02-26T06:02:16.858136Z",
     "iopub.status.idle": "2022-02-26T06:02:16.866966Z",
     "shell.execute_reply": "2022-02-26T06:02:16.867561Z",
     "shell.execute_reply.started": "2022-02-26T06:01:26.050093Z"
    },
    "papermill": {
     "duration": 0.102263,
     "end_time": "2022-02-26T06:02:16.867741",
     "exception": false,
     "start_time": "2022-02-26T06:02:16.765478",
     "status": "completed"
    },
    "tags": []
   },
   "outputs": [
    {
     "data": {
      "text/plain": [
       "count    8.910000e+02\n",
       "mean    -2.859665e-17\n",
       "std      1.000562e+00\n",
       "min     -6.484217e-01\n",
       "25%     -4.891482e-01\n",
       "50%     -3.573909e-01\n",
       "75%     -2.424635e-02\n",
       "max      9.667167e+00\n",
       "Name: Fare, dtype: float64"
      ]
     },
     "execution_count": 32,
     "metadata": {},
     "output_type": "execute_result"
    }
   ],
   "source": [
    "train['Fare'].describe()"
   ]
  },
  {
   "cell_type": "code",
   "execution_count": 33,
   "id": "7946ccc5",
   "metadata": {
    "execution": {
     "iopub.execute_input": "2022-02-26T06:02:17.062052Z",
     "iopub.status.busy": "2022-02-26T06:02:17.061043Z",
     "iopub.status.idle": "2022-02-26T06:02:17.063199Z",
     "shell.execute_reply": "2022-02-26T06:02:17.063802Z",
     "shell.execute_reply.started": "2022-02-26T06:01:26.066557Z"
    },
    "papermill": {
     "duration": 0.0936,
     "end_time": "2022-02-26T06:02:17.063988",
     "exception": false,
     "start_time": "2022-02-26T06:02:16.970388",
     "status": "completed"
    },
    "tags": []
   },
   "outputs": [],
   "source": [
    "# for dataset in data:\n",
    "#     dataset.loc[ dataset['Fare'] <= 7.91, 'Fare'] = 0\n",
    "#     dataset.loc[(dataset['Fare'] > 7.91) & (dataset['Fare'] <= 14.454), 'Fare'] = 1\n",
    "#     dataset.loc[(dataset['Fare'] > 14.454) & (dataset['Fare'] <= 31), 'Fare']   = 2\n",
    "#     dataset.loc[(dataset['Fare'] > 31) & (dataset['Fare'] <= 99), 'Fare']   = 3\n",
    "#     dataset.loc[(dataset['Fare'] > 99) & (dataset['Fare'] <= 250), 'Fare']   = 4\n",
    "#     dataset.loc[ dataset['Fare'] > 250, 'Fare'] = 5\n",
    "#     dataset['Fare'] = dataset['Fare'].astype(int)\n",
    "\n",
    "# # for dataset in data:\n",
    "# #     dataset['Fare'] = pd.qcut(dataset['Fare'], q = 6, labels= False)"
   ]
  },
  {
   "cell_type": "code",
   "execution_count": 34,
   "id": "1b4779a4",
   "metadata": {
    "execution": {
     "iopub.execute_input": "2022-02-26T06:02:17.238392Z",
     "iopub.status.busy": "2022-02-26T06:02:17.237427Z",
     "iopub.status.idle": "2022-02-26T06:02:17.240925Z",
     "shell.execute_reply": "2022-02-26T06:02:17.241552Z",
     "shell.execute_reply.started": "2022-02-26T06:01:26.076851Z"
    },
    "papermill": {
     "duration": 0.092683,
     "end_time": "2022-02-26T06:02:17.241730",
     "exception": false,
     "start_time": "2022-02-26T06:02:17.149047",
     "status": "completed"
    },
    "tags": []
   },
   "outputs": [],
   "source": [
    "# train['Fare'].value_counts()"
   ]
  },
  {
   "cell_type": "code",
   "execution_count": 35,
   "id": "bc514004",
   "metadata": {
    "execution": {
     "iopub.execute_input": "2022-02-26T06:02:17.418890Z",
     "iopub.status.busy": "2022-02-26T06:02:17.417860Z",
     "iopub.status.idle": "2022-02-26T06:02:17.432546Z",
     "shell.execute_reply": "2022-02-26T06:02:17.431880Z",
     "shell.execute_reply.started": "2022-02-26T06:01:26.086235Z"
    },
    "papermill": {
     "duration": 0.103228,
     "end_time": "2022-02-26T06:02:17.432686",
     "exception": false,
     "start_time": "2022-02-26T06:02:17.329458",
     "status": "completed"
    },
    "tags": []
   },
   "outputs": [
    {
     "data": {
      "text/html": [
       "<div>\n",
       "<style scoped>\n",
       "    .dataframe tbody tr th:only-of-type {\n",
       "        vertical-align: middle;\n",
       "    }\n",
       "\n",
       "    .dataframe tbody tr th {\n",
       "        vertical-align: top;\n",
       "    }\n",
       "\n",
       "    .dataframe thead th {\n",
       "        text-align: right;\n",
       "    }\n",
       "</style>\n",
       "<table border=\"1\" class=\"dataframe\">\n",
       "  <thead>\n",
       "    <tr style=\"text-align: right;\">\n",
       "      <th></th>\n",
       "      <th>Survived</th>\n",
       "      <th>Pclass</th>\n",
       "      <th>Sex</th>\n",
       "      <th>Age</th>\n",
       "      <th>SibSp</th>\n",
       "      <th>Parch</th>\n",
       "      <th>Fare</th>\n",
       "      <th>Embarked</th>\n",
       "      <th>Deck</th>\n",
       "      <th>Title</th>\n",
       "    </tr>\n",
       "  </thead>\n",
       "  <tbody>\n",
       "    <tr>\n",
       "      <th>0</th>\n",
       "      <td>0</td>\n",
       "      <td>3</td>\n",
       "      <td>male</td>\n",
       "      <td>22</td>\n",
       "      <td>1</td>\n",
       "      <td>0</td>\n",
       "      <td>-0.502445</td>\n",
       "      <td>S</td>\n",
       "      <td>8</td>\n",
       "      <td>Mr</td>\n",
       "    </tr>\n",
       "    <tr>\n",
       "      <th>1</th>\n",
       "      <td>1</td>\n",
       "      <td>1</td>\n",
       "      <td>female</td>\n",
       "      <td>38</td>\n",
       "      <td>1</td>\n",
       "      <td>0</td>\n",
       "      <td>0.786845</td>\n",
       "      <td>C</td>\n",
       "      <td>3</td>\n",
       "      <td>Mrs</td>\n",
       "    </tr>\n",
       "    <tr>\n",
       "      <th>2</th>\n",
       "      <td>1</td>\n",
       "      <td>3</td>\n",
       "      <td>female</td>\n",
       "      <td>26</td>\n",
       "      <td>0</td>\n",
       "      <td>0</td>\n",
       "      <td>-0.488854</td>\n",
       "      <td>S</td>\n",
       "      <td>8</td>\n",
       "      <td>Miss</td>\n",
       "    </tr>\n",
       "    <tr>\n",
       "      <th>3</th>\n",
       "      <td>1</td>\n",
       "      <td>1</td>\n",
       "      <td>female</td>\n",
       "      <td>35</td>\n",
       "      <td>1</td>\n",
       "      <td>0</td>\n",
       "      <td>0.420730</td>\n",
       "      <td>S</td>\n",
       "      <td>3</td>\n",
       "      <td>Mrs</td>\n",
       "    </tr>\n",
       "    <tr>\n",
       "      <th>4</th>\n",
       "      <td>0</td>\n",
       "      <td>3</td>\n",
       "      <td>male</td>\n",
       "      <td>35</td>\n",
       "      <td>0</td>\n",
       "      <td>0</td>\n",
       "      <td>-0.486337</td>\n",
       "      <td>S</td>\n",
       "      <td>8</td>\n",
       "      <td>Mr</td>\n",
       "    </tr>\n",
       "  </tbody>\n",
       "</table>\n",
       "</div>"
      ],
      "text/plain": [
       "   Survived  Pclass     Sex  Age  SibSp  Parch      Fare Embarked  Deck Title\n",
       "0         0       3    male   22      1      0 -0.502445        S     8    Mr\n",
       "1         1       1  female   38      1      0  0.786845        C     3   Mrs\n",
       "2         1       3  female   26      0      0 -0.488854        S     8  Miss\n",
       "3         1       1  female   35      1      0  0.420730        S     3   Mrs\n",
       "4         0       3    male   35      0      0 -0.486337        S     8    Mr"
      ]
     },
     "execution_count": 35,
     "metadata": {},
     "output_type": "execute_result"
    }
   ],
   "source": [
    "train.head()"
   ]
  },
  {
   "cell_type": "code",
   "execution_count": 36,
   "id": "1be3ef6e",
   "metadata": {
    "execution": {
     "iopub.execute_input": "2022-02-26T06:02:17.609827Z",
     "iopub.status.busy": "2022-02-26T06:02:17.609126Z",
     "iopub.status.idle": "2022-02-26T06:02:17.620788Z",
     "shell.execute_reply": "2022-02-26T06:02:17.621514Z",
     "shell.execute_reply.started": "2022-02-26T06:01:26.110605Z"
    },
    "papermill": {
     "duration": 0.103112,
     "end_time": "2022-02-26T06:02:17.621751",
     "exception": false,
     "start_time": "2022-02-26T06:02:17.518639",
     "status": "completed"
    },
    "tags": []
   },
   "outputs": [
    {
     "data": {
      "text/html": [
       "<div>\n",
       "<style scoped>\n",
       "    .dataframe tbody tr th:only-of-type {\n",
       "        vertical-align: middle;\n",
       "    }\n",
       "\n",
       "    .dataframe tbody tr th {\n",
       "        vertical-align: top;\n",
       "    }\n",
       "\n",
       "    .dataframe thead th {\n",
       "        text-align: right;\n",
       "    }\n",
       "</style>\n",
       "<table border=\"1\" class=\"dataframe\">\n",
       "  <thead>\n",
       "    <tr style=\"text-align: right;\">\n",
       "      <th></th>\n",
       "      <th>Pclass</th>\n",
       "      <th>Sex</th>\n",
       "      <th>Age</th>\n",
       "      <th>SibSp</th>\n",
       "      <th>Parch</th>\n",
       "      <th>Fare</th>\n",
       "      <th>Embarked</th>\n",
       "      <th>Deck</th>\n",
       "      <th>Title</th>\n",
       "    </tr>\n",
       "  </thead>\n",
       "  <tbody>\n",
       "    <tr>\n",
       "      <th>0</th>\n",
       "      <td>3</td>\n",
       "      <td>male</td>\n",
       "      <td>22</td>\n",
       "      <td>0</td>\n",
       "      <td>0</td>\n",
       "      <td>-0.498403</td>\n",
       "      <td>Q</td>\n",
       "      <td>8</td>\n",
       "      <td>Mr</td>\n",
       "    </tr>\n",
       "    <tr>\n",
       "      <th>1</th>\n",
       "      <td>3</td>\n",
       "      <td>female</td>\n",
       "      <td>38</td>\n",
       "      <td>1</td>\n",
       "      <td>0</td>\n",
       "      <td>-0.513271</td>\n",
       "      <td>S</td>\n",
       "      <td>8</td>\n",
       "      <td>Mrs</td>\n",
       "    </tr>\n",
       "    <tr>\n",
       "      <th>2</th>\n",
       "      <td>2</td>\n",
       "      <td>male</td>\n",
       "      <td>26</td>\n",
       "      <td>0</td>\n",
       "      <td>0</td>\n",
       "      <td>-0.465085</td>\n",
       "      <td>Q</td>\n",
       "      <td>8</td>\n",
       "      <td>Mr</td>\n",
       "    </tr>\n",
       "    <tr>\n",
       "      <th>3</th>\n",
       "      <td>3</td>\n",
       "      <td>male</td>\n",
       "      <td>35</td>\n",
       "      <td>0</td>\n",
       "      <td>0</td>\n",
       "      <td>-0.483463</td>\n",
       "      <td>S</td>\n",
       "      <td>8</td>\n",
       "      <td>Mr</td>\n",
       "    </tr>\n",
       "    <tr>\n",
       "      <th>4</th>\n",
       "      <td>3</td>\n",
       "      <td>female</td>\n",
       "      <td>35</td>\n",
       "      <td>1</td>\n",
       "      <td>1</td>\n",
       "      <td>-0.418468</td>\n",
       "      <td>S</td>\n",
       "      <td>8</td>\n",
       "      <td>Mrs</td>\n",
       "    </tr>\n",
       "  </tbody>\n",
       "</table>\n",
       "</div>"
      ],
      "text/plain": [
       "   Pclass     Sex  Age  SibSp  Parch      Fare Embarked  Deck Title\n",
       "0       3    male   22      0      0 -0.498403        Q     8    Mr\n",
       "1       3  female   38      1      0 -0.513271        S     8   Mrs\n",
       "2       2    male   26      0      0 -0.465085        Q     8    Mr\n",
       "3       3    male   35      0      0 -0.483463        S     8    Mr\n",
       "4       3  female   35      1      1 -0.418468        S     8   Mrs"
      ]
     },
     "execution_count": 36,
     "metadata": {},
     "output_type": "execute_result"
    }
   ],
   "source": [
    "test.head()"
   ]
  },
  {
   "cell_type": "code",
   "execution_count": 37,
   "id": "c21394df",
   "metadata": {
    "execution": {
     "iopub.execute_input": "2022-02-26T06:02:17.801317Z",
     "iopub.status.busy": "2022-02-26T06:02:17.800673Z",
     "iopub.status.idle": "2022-02-26T06:02:17.815413Z",
     "shell.execute_reply": "2022-02-26T06:02:17.814766Z",
     "shell.execute_reply.started": "2022-02-26T06:01:26.129119Z"
    },
    "papermill": {
     "duration": 0.105403,
     "end_time": "2022-02-26T06:02:17.815551",
     "exception": false,
     "start_time": "2022-02-26T06:02:17.710148",
     "status": "completed"
    },
    "tags": []
   },
   "outputs": [
    {
     "data": {
      "text/plain": [
       "0     537\n",
       "1     161\n",
       "2     102\n",
       "3      29\n",
       "5      22\n",
       "4      15\n",
       "6      12\n",
       "10      7\n",
       "7       6\n",
       "Name: relatives, dtype: int64"
      ]
     },
     "execution_count": 37,
     "metadata": {},
     "output_type": "execute_result"
    }
   ],
   "source": [
    "data = [train, test]\n",
    "for dataset in data:\n",
    "    dataset['relatives'] = dataset['SibSp'] + dataset['Parch']\n",
    "    dataset.loc[dataset['relatives'] > 0, 'not_alone'] = 0\n",
    "    dataset.loc[dataset['relatives'] == 0, 'not_alone'] = 1\n",
    "    dataset['not_alone'] = dataset['not_alone'].astype(int)\n",
    "train['relatives'].value_counts()"
   ]
  },
  {
   "cell_type": "code",
   "execution_count": 38,
   "id": "b972cf57",
   "metadata": {
    "execution": {
     "iopub.execute_input": "2022-02-26T06:02:17.995941Z",
     "iopub.status.busy": "2022-02-26T06:02:17.995329Z",
     "iopub.status.idle": "2022-02-26T06:02:17.998540Z",
     "shell.execute_reply": "2022-02-26T06:02:17.997862Z",
     "shell.execute_reply.started": "2022-02-26T06:01:26.148633Z"
    },
    "papermill": {
     "duration": 0.095726,
     "end_time": "2022-02-26T06:02:17.998680",
     "exception": false,
     "start_time": "2022-02-26T06:02:17.902954",
     "status": "completed"
    },
    "tags": []
   },
   "outputs": [],
   "source": [
    "# for dataset in data:\n",
    "#     dataset.drop(['not_alone'], axis = 1, inplace = True)"
   ]
  },
  {
   "cell_type": "code",
   "execution_count": 39,
   "id": "ecd9b557",
   "metadata": {
    "execution": {
     "iopub.execute_input": "2022-02-26T06:02:18.177018Z",
     "iopub.status.busy": "2022-02-26T06:02:18.176383Z",
     "iopub.status.idle": "2022-02-26T06:02:18.187831Z",
     "shell.execute_reply": "2022-02-26T06:02:18.188347Z",
     "shell.execute_reply.started": "2022-02-26T06:01:26.152854Z"
    },
    "papermill": {
     "duration": 0.102134,
     "end_time": "2022-02-26T06:02:18.188518",
     "exception": false,
     "start_time": "2022-02-26T06:02:18.086384",
     "status": "completed"
    },
    "tags": []
   },
   "outputs": [],
   "source": [
    "num_cols = ['SibSp', 'Parch', 'Age', 'relatives']\n",
    "\n",
    "for dataset in data:\n",
    "    for col in num_cols:\n",
    "        f = pd.Series(dataset[col])\n",
    "        arr = f.values\n",
    "        arr = arr.reshape(-1, 1)\n",
    "        dataset[col] = sc.fit_transform(arr)"
   ]
  },
  {
   "cell_type": "code",
   "execution_count": 40,
   "id": "89468411",
   "metadata": {
    "execution": {
     "iopub.execute_input": "2022-02-26T06:02:18.374569Z",
     "iopub.status.busy": "2022-02-26T06:02:18.366099Z",
     "iopub.status.idle": "2022-02-26T06:02:18.376128Z",
     "shell.execute_reply": "2022-02-26T06:02:18.377089Z",
     "shell.execute_reply.started": "2022-02-26T06:01:26.177701Z"
    },
    "papermill": {
     "duration": 0.100376,
     "end_time": "2022-02-26T06:02:18.377262",
     "exception": false,
     "start_time": "2022-02-26T06:02:18.276886",
     "status": "completed"
    },
    "tags": []
   },
   "outputs": [],
   "source": [
    "from sklearn.preprocessing import LabelEncoder\n",
    "\n",
    "le = LabelEncoder()\n",
    "cat_cols = ['Sex', 'Embarked', 'Title']\n",
    "data = [train, test]\n",
    "for dataset in data:\n",
    "    for col in cat_cols:\n",
    "        dataset[col] = le.fit_transform(dataset[col])"
   ]
  },
  {
   "cell_type": "code",
   "execution_count": 41,
   "id": "20ff1ac0",
   "metadata": {
    "execution": {
     "iopub.execute_input": "2022-02-26T06:02:18.558175Z",
     "iopub.status.busy": "2022-02-26T06:02:18.557190Z",
     "iopub.status.idle": "2022-02-26T06:02:18.571005Z",
     "shell.execute_reply": "2022-02-26T06:02:18.571610Z",
     "shell.execute_reply.started": "2022-02-26T06:01:26.194741Z"
    },
    "papermill": {
     "duration": 0.107687,
     "end_time": "2022-02-26T06:02:18.571787",
     "exception": false,
     "start_time": "2022-02-26T06:02:18.464100",
     "status": "completed"
    },
    "tags": []
   },
   "outputs": [
    {
     "data": {
      "text/html": [
       "<div>\n",
       "<style scoped>\n",
       "    .dataframe tbody tr th:only-of-type {\n",
       "        vertical-align: middle;\n",
       "    }\n",
       "\n",
       "    .dataframe tbody tr th {\n",
       "        vertical-align: top;\n",
       "    }\n",
       "\n",
       "    .dataframe thead th {\n",
       "        text-align: right;\n",
       "    }\n",
       "</style>\n",
       "<table border=\"1\" class=\"dataframe\">\n",
       "  <thead>\n",
       "    <tr style=\"text-align: right;\">\n",
       "      <th></th>\n",
       "      <th>Pclass</th>\n",
       "      <th>Sex</th>\n",
       "      <th>Age</th>\n",
       "      <th>SibSp</th>\n",
       "      <th>Parch</th>\n",
       "      <th>Fare</th>\n",
       "      <th>Embarked</th>\n",
       "      <th>Deck</th>\n",
       "      <th>Title</th>\n",
       "      <th>relatives</th>\n",
       "      <th>not_alone</th>\n",
       "      <th>Survived</th>\n",
       "    </tr>\n",
       "  </thead>\n",
       "  <tbody>\n",
       "    <tr>\n",
       "      <th>0</th>\n",
       "      <td>3</td>\n",
       "      <td>1</td>\n",
       "      <td>-0.566366</td>\n",
       "      <td>0.432793</td>\n",
       "      <td>-0.473674</td>\n",
       "      <td>-0.502445</td>\n",
       "      <td>2</td>\n",
       "      <td>8</td>\n",
       "      <td>3</td>\n",
       "      <td>0.059160</td>\n",
       "      <td>0</td>\n",
       "      <td>0</td>\n",
       "    </tr>\n",
       "    <tr>\n",
       "      <th>1</th>\n",
       "      <td>1</td>\n",
       "      <td>0</td>\n",
       "      <td>0.615961</td>\n",
       "      <td>0.432793</td>\n",
       "      <td>-0.473674</td>\n",
       "      <td>0.786845</td>\n",
       "      <td>0</td>\n",
       "      <td>3</td>\n",
       "      <td>4</td>\n",
       "      <td>0.059160</td>\n",
       "      <td>0</td>\n",
       "      <td>1</td>\n",
       "    </tr>\n",
       "    <tr>\n",
       "      <th>2</th>\n",
       "      <td>3</td>\n",
       "      <td>0</td>\n",
       "      <td>-0.270784</td>\n",
       "      <td>-0.474545</td>\n",
       "      <td>-0.473674</td>\n",
       "      <td>-0.488854</td>\n",
       "      <td>2</td>\n",
       "      <td>8</td>\n",
       "      <td>2</td>\n",
       "      <td>-0.560975</td>\n",
       "      <td>1</td>\n",
       "      <td>1</td>\n",
       "    </tr>\n",
       "    <tr>\n",
       "      <th>3</th>\n",
       "      <td>1</td>\n",
       "      <td>0</td>\n",
       "      <td>0.394275</td>\n",
       "      <td>0.432793</td>\n",
       "      <td>-0.473674</td>\n",
       "      <td>0.420730</td>\n",
       "      <td>2</td>\n",
       "      <td>3</td>\n",
       "      <td>4</td>\n",
       "      <td>0.059160</td>\n",
       "      <td>0</td>\n",
       "      <td>1</td>\n",
       "    </tr>\n",
       "    <tr>\n",
       "      <th>4</th>\n",
       "      <td>3</td>\n",
       "      <td>1</td>\n",
       "      <td>0.394275</td>\n",
       "      <td>-0.474545</td>\n",
       "      <td>-0.473674</td>\n",
       "      <td>-0.486337</td>\n",
       "      <td>2</td>\n",
       "      <td>8</td>\n",
       "      <td>3</td>\n",
       "      <td>-0.560975</td>\n",
       "      <td>1</td>\n",
       "      <td>0</td>\n",
       "    </tr>\n",
       "  </tbody>\n",
       "</table>\n",
       "</div>"
      ],
      "text/plain": [
       "   Pclass  Sex       Age     SibSp     Parch      Fare  Embarked  Deck  Title  \\\n",
       "0       3    1 -0.566366  0.432793 -0.473674 -0.502445         2     8      3   \n",
       "1       1    0  0.615961  0.432793 -0.473674  0.786845         0     3      4   \n",
       "2       3    0 -0.270784 -0.474545 -0.473674 -0.488854         2     8      2   \n",
       "3       1    0  0.394275  0.432793 -0.473674  0.420730         2     3      4   \n",
       "4       3    1  0.394275 -0.474545 -0.473674 -0.486337         2     8      3   \n",
       "\n",
       "   relatives  not_alone  Survived  \n",
       "0   0.059160          0         0  \n",
       "1   0.059160          0         1  \n",
       "2  -0.560975          1         1  \n",
       "3   0.059160          0         1  \n",
       "4  -0.560975          1         0  "
      ]
     },
     "execution_count": 41,
     "metadata": {},
     "output_type": "execute_result"
    }
   ],
   "source": [
    "train.insert(len(train.columns)-1, 'Survived', train.pop('Survived'))\n",
    "train.head()"
   ]
  },
  {
   "cell_type": "code",
   "execution_count": 42,
   "id": "d4be1dc0",
   "metadata": {
    "execution": {
     "iopub.execute_input": "2022-02-26T06:02:18.752610Z",
     "iopub.status.busy": "2022-02-26T06:02:18.751649Z",
     "iopub.status.idle": "2022-02-26T06:02:18.765573Z",
     "shell.execute_reply": "2022-02-26T06:02:18.766173Z",
     "shell.execute_reply.started": "2022-02-26T06:01:26.215660Z"
    },
    "papermill": {
     "duration": 0.106704,
     "end_time": "2022-02-26T06:02:18.766358",
     "exception": false,
     "start_time": "2022-02-26T06:02:18.659654",
     "status": "completed"
    },
    "tags": []
   },
   "outputs": [
    {
     "data": {
      "text/html": [
       "<div>\n",
       "<style scoped>\n",
       "    .dataframe tbody tr th:only-of-type {\n",
       "        vertical-align: middle;\n",
       "    }\n",
       "\n",
       "    .dataframe tbody tr th {\n",
       "        vertical-align: top;\n",
       "    }\n",
       "\n",
       "    .dataframe thead th {\n",
       "        text-align: right;\n",
       "    }\n",
       "</style>\n",
       "<table border=\"1\" class=\"dataframe\">\n",
       "  <thead>\n",
       "    <tr style=\"text-align: right;\">\n",
       "      <th></th>\n",
       "      <th>Pclass</th>\n",
       "      <th>Sex</th>\n",
       "      <th>Age</th>\n",
       "      <th>SibSp</th>\n",
       "      <th>Parch</th>\n",
       "      <th>Fare</th>\n",
       "      <th>Embarked</th>\n",
       "      <th>Deck</th>\n",
       "      <th>Title</th>\n",
       "      <th>relatives</th>\n",
       "      <th>not_alone</th>\n",
       "    </tr>\n",
       "  </thead>\n",
       "  <tbody>\n",
       "    <tr>\n",
       "      <th>0</th>\n",
       "      <td>3</td>\n",
       "      <td>1</td>\n",
       "      <td>-0.509190</td>\n",
       "      <td>-0.499470</td>\n",
       "      <td>-0.400248</td>\n",
       "      <td>-0.498403</td>\n",
       "      <td>1</td>\n",
       "      <td>8</td>\n",
       "      <td>3</td>\n",
       "      <td>-0.553443</td>\n",
       "      <td>1</td>\n",
       "    </tr>\n",
       "    <tr>\n",
       "      <th>1</th>\n",
       "      <td>3</td>\n",
       "      <td>0</td>\n",
       "      <td>0.700565</td>\n",
       "      <td>0.616992</td>\n",
       "      <td>-0.400248</td>\n",
       "      <td>-0.513271</td>\n",
       "      <td>2</td>\n",
       "      <td>8</td>\n",
       "      <td>4</td>\n",
       "      <td>0.105643</td>\n",
       "      <td>0</td>\n",
       "    </tr>\n",
       "    <tr>\n",
       "      <th>2</th>\n",
       "      <td>2</td>\n",
       "      <td>1</td>\n",
       "      <td>-0.206751</td>\n",
       "      <td>-0.499470</td>\n",
       "      <td>-0.400248</td>\n",
       "      <td>-0.465085</td>\n",
       "      <td>1</td>\n",
       "      <td>8</td>\n",
       "      <td>3</td>\n",
       "      <td>-0.553443</td>\n",
       "      <td>1</td>\n",
       "    </tr>\n",
       "    <tr>\n",
       "      <th>3</th>\n",
       "      <td>3</td>\n",
       "      <td>1</td>\n",
       "      <td>0.473736</td>\n",
       "      <td>-0.499470</td>\n",
       "      <td>-0.400248</td>\n",
       "      <td>-0.483463</td>\n",
       "      <td>2</td>\n",
       "      <td>8</td>\n",
       "      <td>3</td>\n",
       "      <td>-0.553443</td>\n",
       "      <td>1</td>\n",
       "    </tr>\n",
       "    <tr>\n",
       "      <th>4</th>\n",
       "      <td>3</td>\n",
       "      <td>0</td>\n",
       "      <td>0.473736</td>\n",
       "      <td>0.616992</td>\n",
       "      <td>0.619896</td>\n",
       "      <td>-0.418468</td>\n",
       "      <td>2</td>\n",
       "      <td>8</td>\n",
       "      <td>4</td>\n",
       "      <td>0.764728</td>\n",
       "      <td>0</td>\n",
       "    </tr>\n",
       "  </tbody>\n",
       "</table>\n",
       "</div>"
      ],
      "text/plain": [
       "   Pclass  Sex       Age     SibSp     Parch      Fare  Embarked  Deck  Title  \\\n",
       "0       3    1 -0.509190 -0.499470 -0.400248 -0.498403         1     8      3   \n",
       "1       3    0  0.700565  0.616992 -0.400248 -0.513271         2     8      4   \n",
       "2       2    1 -0.206751 -0.499470 -0.400248 -0.465085         1     8      3   \n",
       "3       3    1  0.473736 -0.499470 -0.400248 -0.483463         2     8      3   \n",
       "4       3    0  0.473736  0.616992  0.619896 -0.418468         2     8      4   \n",
       "\n",
       "   relatives  not_alone  \n",
       "0  -0.553443          1  \n",
       "1   0.105643          0  \n",
       "2  -0.553443          1  \n",
       "3  -0.553443          1  \n",
       "4   0.764728          0  "
      ]
     },
     "execution_count": 42,
     "metadata": {},
     "output_type": "execute_result"
    }
   ],
   "source": [
    "test.head()"
   ]
  },
  {
   "cell_type": "markdown",
   "id": "950a5b58",
   "metadata": {
    "papermill": {
     "duration": 0.089428,
     "end_time": "2022-02-26T06:02:18.945526",
     "exception": false,
     "start_time": "2022-02-26T06:02:18.856098",
     "status": "completed"
    },
    "tags": []
   },
   "source": [
    "## Model Evaluation"
   ]
  },
  {
   "cell_type": "code",
   "execution_count": 43,
   "id": "31607e7d",
   "metadata": {
    "execution": {
     "iopub.execute_input": "2022-02-26T06:02:19.132504Z",
     "iopub.status.busy": "2022-02-26T06:02:19.131546Z",
     "iopub.status.idle": "2022-02-26T06:02:19.137262Z",
     "shell.execute_reply": "2022-02-26T06:02:19.137871Z",
     "shell.execute_reply.started": "2022-02-26T06:01:26.242653Z"
    },
    "papermill": {
     "duration": 0.10137,
     "end_time": "2022-02-26T06:02:19.138040",
     "exception": false,
     "start_time": "2022-02-26T06:02:19.036670",
     "status": "completed"
    },
    "tags": []
   },
   "outputs": [],
   "source": [
    "y = train['Survived']\n",
    "X = train.drop('Survived', axis = 1)"
   ]
  },
  {
   "cell_type": "code",
   "execution_count": 44,
   "id": "b58d8a69",
   "metadata": {
    "execution": {
     "iopub.execute_input": "2022-02-26T06:02:19.319709Z",
     "iopub.status.busy": "2022-02-26T06:02:19.318703Z",
     "iopub.status.idle": "2022-02-26T06:02:19.560226Z",
     "shell.execute_reply": "2022-02-26T06:02:19.559661Z",
     "shell.execute_reply.started": "2022-02-26T06:01:26.251647Z"
    },
    "papermill": {
     "duration": 0.333651,
     "end_time": "2022-02-26T06:02:19.560394",
     "exception": false,
     "start_time": "2022-02-26T06:02:19.226743",
     "status": "completed"
    },
    "tags": []
   },
   "outputs": [],
   "source": [
    "from sklearn.ensemble import RandomForestClassifier\n",
    "from sklearn.tree import DecisionTreeClassifier\n",
    "from sklearn.linear_model import LogisticRegression\n",
    "from sklearn.naive_bayes import GaussianNB\n",
    "from sklearn.neighbors import KNeighborsClassifier"
   ]
  },
  {
   "cell_type": "code",
   "execution_count": 45,
   "id": "f71df4c4",
   "metadata": {
    "execution": {
     "iopub.execute_input": "2022-02-26T06:02:19.743614Z",
     "iopub.status.busy": "2022-02-26T06:02:19.742583Z",
     "iopub.status.idle": "2022-02-26T06:02:19.744762Z",
     "shell.execute_reply": "2022-02-26T06:02:19.745365Z",
     "shell.execute_reply.started": "2022-02-26T06:01:26.262360Z"
    },
    "papermill": {
     "duration": 0.095413,
     "end_time": "2022-02-26T06:02:19.745534",
     "exception": false,
     "start_time": "2022-02-26T06:02:19.650121",
     "status": "completed"
    },
    "tags": []
   },
   "outputs": [],
   "source": [
    "from sklearn.metrics import accuracy_score"
   ]
  },
  {
   "cell_type": "markdown",
   "id": "622c1fda",
   "metadata": {
    "papermill": {
     "duration": 0.088984,
     "end_time": "2022-02-26T06:02:19.924781",
     "exception": false,
     "start_time": "2022-02-26T06:02:19.835797",
     "status": "completed"
    },
    "tags": []
   },
   "source": [
    "## Train Test Split"
   ]
  },
  {
   "cell_type": "code",
   "execution_count": 46,
   "id": "7fc402f5",
   "metadata": {
    "execution": {
     "iopub.execute_input": "2022-02-26T06:02:20.109796Z",
     "iopub.status.busy": "2022-02-26T06:02:20.108767Z",
     "iopub.status.idle": "2022-02-26T06:02:20.115553Z",
     "shell.execute_reply": "2022-02-26T06:02:20.116120Z",
     "shell.execute_reply.started": "2022-02-26T06:01:26.273811Z"
    },
    "papermill": {
     "duration": 0.09923,
     "end_time": "2022-02-26T06:02:20.116330",
     "exception": false,
     "start_time": "2022-02-26T06:02:20.017100",
     "status": "completed"
    },
    "tags": []
   },
   "outputs": [],
   "source": [
    "from sklearn.model_selection import train_test_split\n",
    "\n",
    "X_train, X_test, y_train, y_test = train_test_split(X, y, test_size=0.33, random_state = 33)"
   ]
  },
  {
   "cell_type": "markdown",
   "id": "9a87f697",
   "metadata": {
    "papermill": {
     "duration": 0.087893,
     "end_time": "2022-02-26T06:02:20.294760",
     "exception": false,
     "start_time": "2022-02-26T06:02:20.206867",
     "status": "completed"
    },
    "tags": []
   },
   "source": [
    "## Random Forest"
   ]
  },
  {
   "cell_type": "code",
   "execution_count": 47,
   "id": "df907154",
   "metadata": {
    "execution": {
     "iopub.execute_input": "2022-02-26T06:02:20.476588Z",
     "iopub.status.busy": "2022-02-26T06:02:20.475459Z",
     "iopub.status.idle": "2022-02-26T06:02:21.605959Z",
     "shell.execute_reply": "2022-02-26T06:02:21.605332Z",
     "shell.execute_reply.started": "2022-02-26T06:01:26.290253Z"
    },
    "papermill": {
     "duration": 1.222095,
     "end_time": "2022-02-26T06:02:21.606115",
     "exception": false,
     "start_time": "2022-02-26T06:02:20.384020",
     "status": "completed"
    },
    "tags": []
   },
   "outputs": [],
   "source": [
    "rf = RandomForestClassifier(n_estimators= 500)\n",
    "\n",
    "rf.fit(X_train, y_train)\n",
    "rf_pred = rf.predict(X_test)\n",
    "rf_acc = round(accuracy_score(y_test, rf_pred), 2)*100"
   ]
  },
  {
   "cell_type": "markdown",
   "id": "a012ed85",
   "metadata": {
    "papermill": {
     "duration": 0.087957,
     "end_time": "2022-02-26T06:02:21.782622",
     "exception": false,
     "start_time": "2022-02-26T06:02:21.694665",
     "status": "completed"
    },
    "tags": []
   },
   "source": [
    "### Random Forest Feature Importances"
   ]
  },
  {
   "cell_type": "code",
   "execution_count": 48,
   "id": "62df0e10",
   "metadata": {
    "execution": {
     "iopub.execute_input": "2022-02-26T06:02:21.967099Z",
     "iopub.status.busy": "2022-02-26T06:02:21.965816Z",
     "iopub.status.idle": "2022-02-26T06:02:22.290168Z",
     "shell.execute_reply": "2022-02-26T06:02:22.290802Z",
     "shell.execute_reply.started": "2022-02-26T06:01:27.425632Z"
    },
    "papermill": {
     "duration": 0.419924,
     "end_time": "2022-02-26T06:02:22.290969",
     "exception": false,
     "start_time": "2022-02-26T06:02:21.871045",
     "status": "completed"
    },
    "tags": []
   },
   "outputs": [
    {
     "data": {
      "image/png": "[encoded data removed]",
      "text/plain": [
       "<Figure size 432x288 with 1 Axes>"
      ]
     },
     "metadata": {
      "needs_background": "light"
     },
     "output_type": "display_data"
    }
   ],
   "source": [
    "features = X.columns\n",
    "f_i = list(zip(features,rf.feature_importances_))\n",
    "f_i.sort(key = lambda x : x[1])\n",
    "plt.barh([x[0] for x in f_i],[x[1] for x in f_i])\n",
    "plt.show()"
   ]
  },
  {
   "cell_type": "markdown",
   "id": "534fc239",
   "metadata": {
    "papermill": {
     "duration": 0.089318,
     "end_time": "2022-02-26T06:02:22.469850",
     "exception": false,
     "start_time": "2022-02-26T06:02:22.380532",
     "status": "completed"
    },
    "tags": []
   },
   "source": [
    "## Decision Tree"
   ]
  },
  {
   "cell_type": "code",
   "execution_count": 49,
   "id": "5e7ef253",
   "metadata": {
    "execution": {
     "iopub.execute_input": "2022-02-26T06:02:22.659776Z",
     "iopub.status.busy": "2022-02-26T06:02:22.654984Z",
     "iopub.status.idle": "2022-02-26T06:02:22.666043Z",
     "shell.execute_reply": "2022-02-26T06:02:22.666603Z",
     "shell.execute_reply.started": "2022-02-26T06:01:27.671173Z"
    },
    "papermill": {
     "duration": 0.105881,
     "end_time": "2022-02-26T06:02:22.666840",
     "exception": false,
     "start_time": "2022-02-26T06:02:22.560959",
     "status": "completed"
    },
    "tags": []
   },
   "outputs": [],
   "source": [
    "dtree = DecisionTreeClassifier()\n",
    "\n",
    "dtree.fit(X_train, y_train)\n",
    "dtree_pred = dtree.predict(X_test)\n",
    "dtree_acc = round(accuracy_score(y_test, dtree_pred), 4)*100"
   ]
  },
  {
   "cell_type": "markdown",
   "id": "e7604f7d",
   "metadata": {
    "papermill": {
     "duration": 0.091493,
     "end_time": "2022-02-26T06:02:22.849368",
     "exception": false,
     "start_time": "2022-02-26T06:02:22.757875",
     "status": "completed"
    },
    "tags": []
   },
   "source": [
    "## Logistic Regresion"
   ]
  },
  {
   "cell_type": "code",
   "execution_count": 50,
   "id": "0b4f3a69",
   "metadata": {
    "execution": {
     "iopub.execute_input": "2022-02-26T06:02:23.034002Z",
     "iopub.status.busy": "2022-02-26T06:02:23.033407Z",
     "iopub.status.idle": "2022-02-26T06:02:23.057763Z",
     "shell.execute_reply": "2022-02-26T06:02:23.057072Z",
     "shell.execute_reply.started": "2022-02-26T06:01:27.685108Z"
    },
    "papermill": {
     "duration": 0.118484,
     "end_time": "2022-02-26T06:02:23.057930",
     "exception": false,
     "start_time": "2022-02-26T06:02:22.939446",
     "status": "completed"
    },
    "tags": []
   },
   "outputs": [],
   "source": [
    "logr = LogisticRegression()\n",
    "\n",
    "logr.fit(X_train, y_train)\n",
    "logr_pred = logr.predict(X_test)\n",
    "logr_acc = round(accuracy_score(y_test, logr_pred), 4)*100"
   ]
  },
  {
   "cell_type": "markdown",
   "id": "0539ce74",
   "metadata": {
    "papermill": {
     "duration": 0.089207,
     "end_time": "2022-02-26T06:02:23.239904",
     "exception": false,
     "start_time": "2022-02-26T06:02:23.150697",
     "status": "completed"
    },
    "tags": []
   },
   "source": [
    "## Gaussian Naive Bayes"
   ]
  },
  {
   "cell_type": "code",
   "execution_count": 51,
   "id": "c50c8e54",
   "metadata": {
    "execution": {
     "iopub.execute_input": "2022-02-26T06:02:23.429807Z",
     "iopub.status.busy": "2022-02-26T06:02:23.429126Z",
     "iopub.status.idle": "2022-02-26T06:02:23.434404Z",
     "shell.execute_reply": "2022-02-26T06:02:23.434945Z",
     "shell.execute_reply.started": "2022-02-26T06:01:27.713469Z"
    },
    "papermill": {
     "duration": 0.105123,
     "end_time": "2022-02-26T06:02:23.435120",
     "exception": false,
     "start_time": "2022-02-26T06:02:23.329997",
     "status": "completed"
    },
    "tags": []
   },
   "outputs": [],
   "source": [
    "gnb = GaussianNB()\n",
    "\n",
    "gnb.fit(X_train, y_train)\n",
    "gnb_pred = gnb.predict(X_test)\n",
    "gnb_acc = round(accuracy_score(y_test, gnb_pred), 4)*100"
   ]
  },
  {
   "cell_type": "markdown",
   "id": "91fdf105",
   "metadata": {
    "papermill": {
     "duration": 0.090191,
     "end_time": "2022-02-26T06:02:23.615380",
     "exception": false,
     "start_time": "2022-02-26T06:02:23.525189",
     "status": "completed"
    },
    "tags": []
   },
   "source": [
    "## K-Nearest Neighbors"
   ]
  },
  {
   "cell_type": "code",
   "execution_count": 52,
   "id": "359675db",
   "metadata": {
    "execution": {
     "iopub.execute_input": "2022-02-26T06:02:23.797835Z",
     "iopub.status.busy": "2022-02-26T06:02:23.796830Z",
     "iopub.status.idle": "2022-02-26T06:02:23.822596Z",
     "shell.execute_reply": "2022-02-26T06:02:23.823126Z",
     "shell.execute_reply.started": "2022-02-26T06:01:27.724955Z"
    },
    "papermill": {
     "duration": 0.119143,
     "end_time": "2022-02-26T06:02:23.823319",
     "exception": false,
     "start_time": "2022-02-26T06:02:23.704176",
     "status": "completed"
    },
    "tags": []
   },
   "outputs": [],
   "source": [
    "knn = KNeighborsClassifier(n_neighbors= 7)\n",
    "\n",
    "knn.fit(X_train, y_train)\n",
    "knn_pred = knn.predict(X_test)\n",
    "knn_acc = round(accuracy_score(y_test, knn_pred), 4)*100"
   ]
  },
  {
   "cell_type": "code",
   "execution_count": 53,
   "id": "0b286286",
   "metadata": {
    "execution": {
     "iopub.execute_input": "2022-02-26T06:02:24.020930Z",
     "iopub.status.busy": "2022-02-26T06:02:24.019951Z",
     "iopub.status.idle": "2022-02-26T06:02:24.023607Z",
     "shell.execute_reply": "2022-02-26T06:02:24.024084Z",
     "shell.execute_reply.started": "2022-02-26T06:01:27.760688Z"
    },
    "papermill": {
     "duration": 0.108383,
     "end_time": "2022-02-26T06:02:24.024250",
     "exception": false,
     "start_time": "2022-02-26T06:02:23.915867",
     "status": "completed"
    },
    "tags": []
   },
   "outputs": [
    {
     "data": {
      "text/html": [
       "<div>\n",
       "<style scoped>\n",
       "    .dataframe tbody tr th:only-of-type {\n",
       "        vertical-align: middle;\n",
       "    }\n",
       "\n",
       "    .dataframe tbody tr th {\n",
       "        vertical-align: top;\n",
       "    }\n",
       "\n",
       "    .dataframe thead th {\n",
       "        text-align: right;\n",
       "    }\n",
       "</style>\n",
       "<table border=\"1\" class=\"dataframe\">\n",
       "  <thead>\n",
       "    <tr style=\"text-align: right;\">\n",
       "      <th></th>\n",
       "      <th>Model</th>\n",
       "      <th>Score</th>\n",
       "    </tr>\n",
       "  </thead>\n",
       "  <tbody>\n",
       "    <tr>\n",
       "      <th>0</th>\n",
       "      <td>Random Forest</td>\n",
       "      <td>84.00</td>\n",
       "    </tr>\n",
       "    <tr>\n",
       "      <th>2</th>\n",
       "      <td>Logistic Regression</td>\n",
       "      <td>82.37</td>\n",
       "    </tr>\n",
       "    <tr>\n",
       "      <th>3</th>\n",
       "      <td>Gaussian Naive Bayes</td>\n",
       "      <td>82.37</td>\n",
       "    </tr>\n",
       "    <tr>\n",
       "      <th>4</th>\n",
       "      <td>K-Nearest Neighbors</td>\n",
       "      <td>81.36</td>\n",
       "    </tr>\n",
       "    <tr>\n",
       "      <th>1</th>\n",
       "      <td>Decision Tree</td>\n",
       "      <td>78.31</td>\n",
       "    </tr>\n",
       "  </tbody>\n",
       "</table>\n",
       "</div>"
      ],
      "text/plain": [
       "                  Model  Score\n",
       "0         Random Forest  84.00\n",
       "2   Logistic Regression  82.37\n",
       "3  Gaussian Naive Bayes  82.37\n",
       "4   K-Nearest Neighbors  81.36\n",
       "1         Decision Tree  78.31"
      ]
     },
     "execution_count": 53,
     "metadata": {},
     "output_type": "execute_result"
    }
   ],
   "source": [
    "results = pd.DataFrame({\n",
    "    'Model': ['Random Forest', 'Decision Tree', 'Logistic Regression', \n",
    "              'Gaussian Naive Bayes', 'K-Nearest Neighbors'],\n",
    "    'Score': [rf_acc, dtree_acc, logr_acc, gnb_acc, knn_acc]})\n",
    "result_df = results.sort_values(by='Score', ascending=False)\n",
    "result_df"
   ]
  },
  {
   "cell_type": "code",
   "execution_count": 54,
   "id": "199824f8",
   "metadata": {
    "execution": {
     "iopub.execute_input": "2022-02-26T06:02:24.209914Z",
     "iopub.status.busy": "2022-02-26T06:02:24.208946Z",
     "iopub.status.idle": "2022-02-26T06:02:24.215550Z",
     "shell.execute_reply": "2022-02-26T06:02:24.214821Z",
     "shell.execute_reply.started": "2022-02-26T06:01:27.775407Z"
    },
    "papermill": {
     "duration": 0.099654,
     "end_time": "2022-02-26T06:02:24.215728",
     "exception": false,
     "start_time": "2022-02-26T06:02:24.116074",
     "status": "completed"
    },
    "tags": []
   },
   "outputs": [
    {
     "name": "stdout",
     "output_type": "stream",
     "text": [
      "Mean Score of Models:  81.682\n"
     ]
    }
   ],
   "source": [
    "print(\"Mean Score of Models: \", round(result_df['Score'].mean(), 3))"
   ]
  },
  {
   "cell_type": "markdown",
   "id": "20b2f3c5",
   "metadata": {
    "papermill": {
     "duration": 0.089987,
     "end_time": "2022-02-26T06:02:24.397327",
     "exception": false,
     "start_time": "2022-02-26T06:02:24.307340",
     "status": "completed"
    },
    "tags": []
   },
   "source": [
    "## Submission File Code"
   ]
  },
  {
   "cell_type": "code",
   "execution_count": 55,
   "id": "54e7fae5",
   "metadata": {
    "execution": {
     "iopub.execute_input": "2022-02-26T06:02:24.580538Z",
     "iopub.status.busy": "2022-02-26T06:02:24.579870Z",
     "iopub.status.idle": "2022-02-26T06:02:24.586078Z",
     "shell.execute_reply": "2022-02-26T06:02:24.585445Z",
     "shell.execute_reply.started": "2022-02-26T06:01:27.792047Z"
    },
    "papermill": {
     "duration": 0.098961,
     "end_time": "2022-02-26T06:02:24.586217",
     "exception": false,
     "start_time": "2022-02-26T06:02:24.487256",
     "status": "completed"
    },
    "tags": []
   },
   "outputs": [],
   "source": [
    "y = train['Survived']\n",
    "X = train.drop('Survived', axis = 1)"
   ]
  },
  {
   "cell_type": "code",
   "execution_count": 56,
   "id": "266aaf93",
   "metadata": {
    "execution": {
     "iopub.execute_input": "2022-02-26T06:02:24.773378Z",
     "iopub.status.busy": "2022-02-26T06:02:24.772724Z",
     "iopub.status.idle": "2022-02-26T06:02:24.805757Z",
     "shell.execute_reply": "2022-02-26T06:02:24.806685Z",
     "shell.execute_reply.started": "2022-02-26T06:01:27.804614Z"
    },
    "papermill": {
     "duration": 0.129235,
     "end_time": "2022-02-26T06:02:24.806969",
     "exception": false,
     "start_time": "2022-02-26T06:02:24.677734",
     "status": "completed"
    },
    "tags": []
   },
   "outputs": [],
   "source": [
    "reg = LogisticRegression()\n",
    "\n",
    "reg.fit(X, y)\n",
    "predictions = reg.predict(test)"
   ]
  },
  {
   "cell_type": "code",
   "execution_count": 57,
   "id": "dcbc8f13",
   "metadata": {
    "execution": {
     "iopub.execute_input": "2022-02-26T06:02:25.046651Z",
     "iopub.status.busy": "2022-02-26T06:02:25.045971Z",
     "iopub.status.idle": "2022-02-26T06:02:25.055736Z",
     "shell.execute_reply": "2022-02-26T06:02:25.056184Z",
     "shell.execute_reply.started": "2022-02-26T06:01:27.857898Z"
    },
    "papermill": {
     "duration": 0.107792,
     "end_time": "2022-02-26T06:02:25.056384",
     "exception": false,
     "start_time": "2022-02-26T06:02:24.948592",
     "status": "completed"
    },
    "tags": []
   },
   "outputs": [
    {
     "data": {
      "text/html": [
       "<div>\n",
       "<style scoped>\n",
       "    .dataframe tbody tr th:only-of-type {\n",
       "        vertical-align: middle;\n",
       "    }\n",
       "\n",
       "    .dataframe tbody tr th {\n",
       "        vertical-align: top;\n",
       "    }\n",
       "\n",
       "    .dataframe thead th {\n",
       "        text-align: right;\n",
       "    }\n",
       "</style>\n",
       "<table border=\"1\" class=\"dataframe\">\n",
       "  <thead>\n",
       "    <tr style=\"text-align: right;\">\n",
       "      <th></th>\n",
       "      <th>PassengerId</th>\n",
       "      <th>Survived</th>\n",
       "    </tr>\n",
       "  </thead>\n",
       "  <tbody>\n",
       "    <tr>\n",
       "      <th>0</th>\n",
       "      <td>892</td>\n",
       "      <td>0</td>\n",
       "    </tr>\n",
       "    <tr>\n",
       "      <th>1</th>\n",
       "      <td>893</td>\n",
       "      <td>0</td>\n",
       "    </tr>\n",
       "    <tr>\n",
       "      <th>2</th>\n",
       "      <td>894</td>\n",
       "      <td>0</td>\n",
       "    </tr>\n",
       "    <tr>\n",
       "      <th>3</th>\n",
       "      <td>895</td>\n",
       "      <td>0</td>\n",
       "    </tr>\n",
       "    <tr>\n",
       "      <th>4</th>\n",
       "      <td>896</td>\n",
       "      <td>0</td>\n",
       "    </tr>\n",
       "    <tr>\n",
       "      <th>...</th>\n",
       "      <td>...</td>\n",
       "      <td>...</td>\n",
       "    </tr>\n",
       "    <tr>\n",
       "      <th>413</th>\n",
       "      <td>1305</td>\n",
       "      <td>0</td>\n",
       "    </tr>\n",
       "    <tr>\n",
       "      <th>414</th>\n",
       "      <td>1306</td>\n",
       "      <td>1</td>\n",
       "    </tr>\n",
       "    <tr>\n",
       "      <th>415</th>\n",
       "      <td>1307</td>\n",
       "      <td>0</td>\n",
       "    </tr>\n",
       "    <tr>\n",
       "      <th>416</th>\n",
       "      <td>1308</td>\n",
       "      <td>0</td>\n",
       "    </tr>\n",
       "    <tr>\n",
       "      <th>417</th>\n",
       "      <td>1309</td>\n",
       "      <td>0</td>\n",
       "    </tr>\n",
       "  </tbody>\n",
       "</table>\n",
       "<p>418 rows × 2 columns</p>\n",
       "</div>"
      ],
      "text/plain": [
       "     PassengerId  Survived\n",
       "0            892         0\n",
       "1            893         0\n",
       "2            894         0\n",
       "3            895         0\n",
       "4            896         0\n",
       "..           ...       ...\n",
       "413         1305         0\n",
       "414         1306         1\n",
       "415         1307         0\n",
       "416         1308         0\n",
       "417         1309         0\n",
       "\n",
       "[418 rows x 2 columns]"
      ]
     },
     "execution_count": 57,
     "metadata": {},
     "output_type": "execute_result"
    }
   ],
   "source": [
    "predictions = pd.DataFrame(predictions)\n",
    "p_id = pd.DataFrame(p_id)\n",
    "\n",
    "results = pd.concat([p_id, predictions], axis=1).reset_index(drop = True)\n",
    "results.columns = [\"PassengerId\", \"Survived\"]\n",
    "results"
   ]
  },
  {
   "cell_type": "code",
   "execution_count": 58,
   "id": "5a44df3a",
   "metadata": {
    "execution": {
     "iopub.execute_input": "2022-02-26T06:02:25.241305Z",
     "iopub.status.busy": "2022-02-26T06:02:25.240315Z",
     "iopub.status.idle": "2022-02-26T06:02:25.245904Z",
     "shell.execute_reply": "2022-02-26T06:02:25.246394Z",
     "shell.execute_reply.started": "2022-02-26T06:01:27.883675Z"
    },
    "papermill": {
     "duration": 0.100225,
     "end_time": "2022-02-26T06:02:25.246572",
     "exception": false,
     "start_time": "2022-02-26T06:02:25.146347",
     "status": "completed"
    },
    "tags": []
   },
   "outputs": [],
   "source": [
    "results.to_csv(\"submission.csv\", index = False)"
   ]
  }
 ],
 "metadata": {
  "kernelspec": {
   "display_name": "Python 3",
   "language": "python",
   "name": "python3"
  },
  "language_info": {
   "codemirror_mode": {
    "name": "ipython",
    "version": 3
   },
   "file_extension": ".py",
   "mimetype": "text/x-python",
   "name": "python",
   "nbconvert_exporter": "python",
   "pygments_lexer": "ipython3",
   "version": "3.7.12"
  },
  "papermill": {
   "default_parameters": {},
   "duration": 29.460164,
   "end_time": "2022-02-26T06:02:26.150881",
   "environment_variables": {},
   "exception": null,
   "input_path": "__notebook__.ipynb",
   "output_path": "__notebook__.ipynb",
   "parameters": {},
   "start_time": "2022-02-26T06:01:56.690717",
   "version": "2.3.3"
  }
 },
 "nbformat": 4,
 "nbformat_minor": 5
}
